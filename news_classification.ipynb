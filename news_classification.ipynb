{
  "nbformat": 4,
  "nbformat_minor": 0,
  "metadata": {
    "kernelspec": {
      "display_name": "Python 3",
      "language": "python",
      "name": "python3"
    },
    "language_info": {
      "codemirror_mode": {
        "name": "ipython",
        "version": 3
      },
      "file_extension": ".py",
      "mimetype": "text/x-python",
      "name": "python",
      "nbconvert_exporter": "python",
      "pygments_lexer": "ipython3",
      "version": "3.7.5"
    },
    "colab": {
      "name": "news_classification.ipynb",
      "provenance": [],
      "include_colab_link": true
    }
  },
  "cells": [
    {
      "cell_type": "markdown",
      "metadata": {
        "id": "view-in-github",
        "colab_type": "text"
      },
      "source": [
        "<a href=\"https://colab.research.google.com/github/AdamHuang0402/MLclass0423/blob/master/news_classification.ipynb\" target=\"_parent\"><img src=\"https://colab.research.google.com/assets/colab-badge.svg\" alt=\"Open In Colab\"/></a>"
      ]
    },
    {
      "cell_type": "code",
      "metadata": {
        "id": "Ua14Uc69xCym",
        "colab_type": "code",
        "colab": {},
        "outputId": "a0e95c2b-cf03-4b23-bee5-f191d09be371"
      },
      "source": [
        "import glob\n",
        "import os\n",
        "import pandas as pd\n",
        "#fnames = glob.glob(\"chinese_news_trans/*\")\n",
        "fnames = glob.glob(\"chinese_news_trans/*/*.[tT][xX][tT]\")\n",
        "datas = {\n",
        "    \"content\":[],\n",
        "    \"target\":[]\n",
        "}\n",
        "for fn in fnames:\n",
        "    with open(fn, \"r\", encoding=\"utf-8\") as f:\n",
        "        content = f.read()\n",
        "    datas[\"content\"].append(content)\n",
        "    dn = os.path.split(fn)[0]\n",
        "    dn = os.path.split(dn)[-1]\n",
        "    datas[\"target\"].append(dn)\n",
        "train_df = pd.DataFrame(datas)\n",
        "train_df"
      ],
      "execution_count": null,
      "outputs": [
        {
          "output_type": "execute_result",
          "data": {
            "text/html": [
              "<div>\n",
              "<style scoped>\n",
              "    .dataframe tbody tr th:only-of-type {\n",
              "        vertical-align: middle;\n",
              "    }\n",
              "\n",
              "    .dataframe tbody tr th {\n",
              "        vertical-align: top;\n",
              "    }\n",
              "\n",
              "    .dataframe thead th {\n",
              "        text-align: right;\n",
              "    }\n",
              "</style>\n",
              "<table border=\"1\" class=\"dataframe\">\n",
              "  <thead>\n",
              "    <tr style=\"text-align: right;\">\n",
              "      <th></th>\n",
              "      <th>content</th>\n",
              "      <th>target</th>\n",
              "    </tr>\n",
              "  </thead>\n",
              "  <tbody>\n",
              "    <tr>\n",
              "      <th>0</th>\n",
              "      <td>【 日  期 】19960104\\n【 版  號 】1\\n【 標  題 】合巢蕪高速公路巢蕪...</td>\n",
              "      <td>交通</td>\n",
              "    </tr>\n",
              "    <tr>\n",
              "      <th>1</th>\n",
              "      <td>【 日  期 】19960226\\n【 版  號 】5\\n【 標  題 】我首臺載人磁懸浮列...</td>\n",
              "      <td>交通</td>\n",
              "    </tr>\n",
              "    <tr>\n",
              "      <th>2</th>\n",
              "      <td>大秦鐵路萬噸列車試運成功\\n新華社北京５月２４日電（通訊員李忠民）大秦...</td>\n",
              "      <td>交通</td>\n",
              "    </tr>\n",
              "    <tr>\n",
              "      <th>3</th>\n",
              "      <td>遼寧省檯安縣村村都通柏油路鄉村公路建設全國數第\\n一\\n    (4)...</td>\n",
              "      <td>交通</td>\n",
              "    </tr>\n",
              "    <tr>\n",
              "      <th>4</th>\n",
              "      <td>北京—烏蘭巴托—莫斯料３／４次國際旅客列車通車\\n３０週年\\n    ...</td>\n",
              "      <td>交通</td>\n",
              "    </tr>\n",
              "    <tr>\n",
              "      <th>...</th>\n",
              "      <td>...</td>\n",
              "      <td>...</td>\n",
              "    </tr>\n",
              "    <tr>\n",
              "      <th>2632</th>\n",
              "      <td>馬玉芹破女子４００米跑全國青年紀錄\\n新華社鞍山５月１０日電（通訊員王...</td>\n",
              "      <td>體育</td>\n",
              "    </tr>\n",
              "    <tr>\n",
              "      <th>2633</th>\n",
              "      <td>國際奧委會中國臺北委員吳經國訪問北京\\n新華社北京５月１０日電記者《中...</td>\n",
              "      <td>體育</td>\n",
              "    </tr>\n",
              "    <tr>\n",
              "      <th>2634</th>\n",
              "      <td>亞奧理事會３９個成員組織全部以書面形式確認參加\\n第十一屆亞運會\\n ...</td>\n",
              "      <td>體育</td>\n",
              "    </tr>\n",
              "    <tr>\n",
              "      <th>2635</th>\n",
              "      <td>世界盃乒乓球團體賽男子團體採用新賽制\\n新華社北京５月１０日電（記者樑...</td>\n",
              "      <td>體育</td>\n",
              "    </tr>\n",
              "    <tr>\n",
              "      <th>2636</th>\n",
              "      <td>登頂隊員簡介\\n新華社珠穆朗瑪峰５月１０日電登頂隊員簡介\\n     ...</td>\n",
              "      <td>體育</td>\n",
              "    </tr>\n",
              "  </tbody>\n",
              "</table>\n",
              "<p>2637 rows × 2 columns</p>\n",
              "</div>"
            ],
            "text/plain": [
              "                                                content target\n",
              "0     【 日  期 】19960104\\n【 版  號 】1\\n【 標  題 】合巢蕪高速公路巢蕪...     交通\n",
              "1     【 日  期 】19960226\\n【 版  號 】5\\n【 標  題 】我首臺載人磁懸浮列...     交通\n",
              "2                大秦鐵路萬噸列車試運成功\\n新華社北京５月２４日電（通訊員李忠民）大秦...     交通\n",
              "3                遼寧省檯安縣村村都通柏油路鄉村公路建設全國數第\\n一\\n    (4)...     交通\n",
              "4                北京—烏蘭巴托—莫斯料３／４次國際旅客列車通車\\n３０週年\\n    ...     交通\n",
              "...                                                 ...    ...\n",
              "2632             馬玉芹破女子４００米跑全國青年紀錄\\n新華社鞍山５月１０日電（通訊員王...     體育\n",
              "2633             國際奧委會中國臺北委員吳經國訪問北京\\n新華社北京５月１０日電記者《中...     體育\n",
              "2634             亞奧理事會３９個成員組織全部以書面形式確認參加\\n第十一屆亞運會\\n ...     體育\n",
              "2635             世界盃乒乓球團體賽男子團體採用新賽制\\n新華社北京５月１０日電（記者樑...     體育\n",
              "2636             登頂隊員簡介\\n新華社珠穆朗瑪峰５月１０日電登頂隊員簡介\\n     ...     體育\n",
              "\n",
              "[2637 rows x 2 columns]"
            ]
          },
          "metadata": {
            "tags": []
          },
          "execution_count": 1
        }
      ]
    },
    {
      "cell_type": "code",
      "metadata": {
        "id": "6MFE5tpyxCyv",
        "colab_type": "code",
        "colab": {},
        "outputId": "ad846edc-0a65-405f-fdfb-3fb1b2eeac2e"
      },
      "source": [
        "fnames = glob.glob(\"chinese_news_test/*/*.[tT][xX][tT]\")\n",
        "datas = {\n",
        "    \"content\":[],\n",
        "    \"target\":[]\n",
        "}\n",
        "for fn in fnames:\n",
        "    with open(fn, \"r\", encoding=\"utf-8\") as f:\n",
        "        content = f.read()\n",
        "    datas[\"content\"].append(content)\n",
        "    dn = os.path.split(fn)[0]\n",
        "    dn = os.path.split(dn)[-1]\n",
        "    datas[\"target\"].append(dn)\n",
        "test_df = pd.DataFrame(datas)\n",
        "test_df"
      ],
      "execution_count": null,
      "outputs": [
        {
          "output_type": "execute_result",
          "data": {
            "text/html": [
              "<div>\n",
              "<style scoped>\n",
              "    .dataframe tbody tr th:only-of-type {\n",
              "        vertical-align: middle;\n",
              "    }\n",
              "\n",
              "    .dataframe tbody tr th {\n",
              "        vertical-align: top;\n",
              "    }\n",
              "\n",
              "    .dataframe thead th {\n",
              "        text-align: right;\n",
              "    }\n",
              "</style>\n",
              "<table border=\"1\" class=\"dataframe\">\n",
              "  <thead>\n",
              "    <tr style=\"text-align: right;\">\n",
              "      <th></th>\n",
              "      <th>content</th>\n",
              "      <th>target</th>\n",
              "    </tr>\n",
              "  </thead>\n",
              "  <tbody>\n",
              "    <tr>\n",
              "      <th>0</th>\n",
              "      <td>日月光華 -- Traffic_Info精華區文章閱讀\\n-----------------...</td>\n",
              "      <td>交通</td>\n",
              "    </tr>\n",
              "    <tr>\n",
              "      <th>1</th>\n",
              "      <td>日月光華 -- Traffic_Info精華區文章閱讀\\n-----------------...</td>\n",
              "      <td>交通</td>\n",
              "    </tr>\n",
              "    <tr>\n",
              "      <th>2</th>\n",
              "      <td>日月光華 -- Traffic_Info精華區文章閱讀\\n-----------------...</td>\n",
              "      <td>交通</td>\n",
              "    </tr>\n",
              "    <tr>\n",
              "      <th>3</th>\n",
              "      <td>三趟火車停開 乘客可全額退票 \\n瀏覽次數：1180 \\n    昨日，來自鐵路部門的消息說...</td>\n",
              "      <td>交通</td>\n",
              "    </tr>\n",
              "    <tr>\n",
              "      <th>4</th>\n",
              "      <td>日月光華 -- Traffic_Info精華區文章閱讀\\n-----------------...</td>\n",
              "      <td>交通</td>\n",
              "    </tr>\n",
              "    <tr>\n",
              "      <th>...</th>\n",
              "      <td>...</td>\n",
              "      <td>...</td>\n",
              "    </tr>\n",
              "    <tr>\n",
              "      <th>96</th>\n",
              "      <td>最優秀選手無緣亞運會健美賽\\n \\n　 \\n    健美在亞洲運動會上是“新生兒”——韓國釜...</td>\n",
              "      <td>體育</td>\n",
              "    </tr>\n",
              "    <tr>\n",
              "      <th>97</th>\n",
              "      <td>\\n各國記者眼中的羽毛球世錦賽\\n \\n\\n-----------------------...</td>\n",
              "      <td>體育</td>\n",
              "    </tr>\n",
              "    <tr>\n",
              "      <th>98</th>\n",
              "      <td>\\n友好運動會第五天 東道主選手大顯神威\\n2001年09月03日02:51:40 新華社 ...</td>\n",
              "      <td>體育</td>\n",
              "    </tr>\n",
              "    <tr>\n",
              "      <th>99</th>\n",
              "      <td>不靠技術比運氣\\n\\n　　第二屆奧運會在巴黎舉行，同時這裡也正在舉行國際博覽會，東道主把一些...</td>\n",
              "      <td>體育</td>\n",
              "    </tr>\n",
              "    <tr>\n",
              "      <th>100</th>\n",
              "      <td>帆 板 運 動 簡 介（二）\\n\\n　　我國在79年由國家體委青島航海運動學校成功試製出第一...</td>\n",
              "      <td>體育</td>\n",
              "    </tr>\n",
              "  </tbody>\n",
              "</table>\n",
              "<p>101 rows × 2 columns</p>\n",
              "</div>"
            ],
            "text/plain": [
              "                                               content target\n",
              "0    日月光華 -- Traffic_Info精華區文章閱讀\\n-----------------...     交通\n",
              "1    日月光華 -- Traffic_Info精華區文章閱讀\\n-----------------...     交通\n",
              "2    日月光華 -- Traffic_Info精華區文章閱讀\\n-----------------...     交通\n",
              "3    三趟火車停開 乘客可全額退票 \\n瀏覽次數：1180 \\n    昨日，來自鐵路部門的消息說...     交通\n",
              "4    日月光華 -- Traffic_Info精華區文章閱讀\\n-----------------...     交通\n",
              "..                                                 ...    ...\n",
              "96   最優秀選手無緣亞運會健美賽\\n \\n　 \\n    健美在亞洲運動會上是“新生兒”——韓國釜...     體育\n",
              "97    \\n各國記者眼中的羽毛球世錦賽\\n \\n\\n-----------------------...     體育\n",
              "98   \\n友好運動會第五天 東道主選手大顯神威\\n2001年09月03日02:51:40 新華社 ...     體育\n",
              "99   不靠技術比運氣\\n\\n　　第二屆奧運會在巴黎舉行，同時這裡也正在舉行國際博覽會，東道主把一些...     體育\n",
              "100  帆 板 運 動 簡 介（二）\\n\\n　　我國在79年由國家體委青島航海運動學校成功試製出第一...     體育\n",
              "\n",
              "[101 rows x 2 columns]"
            ]
          },
          "metadata": {
            "tags": []
          },
          "execution_count": 2
        }
      ]
    },
    {
      "cell_type": "code",
      "metadata": {
        "id": "SePB4BE1xCy0",
        "colab_type": "code",
        "colab": {},
        "outputId": "9d069dae-09e8-40a4-df30-c172ab40cd06"
      },
      "source": [
        "# 答案: 處理成數字\n",
        "# replace()\n",
        "u = train_df[\"target\"].unique()\n",
        "trans ={name:i for i,name in enumerate(u)}\n",
        "reverse_trans = {i:name for name,i in trans.items()}\n",
        "print(trans)\n",
        "print(reverse_trans)\n",
        "y_train = train_df[\"target\"].replace(trans)\n",
        "y_test = test_df[\"target\"].replace(trans)\n",
        "y_test"
      ],
      "execution_count": null,
      "outputs": [
        {
          "output_type": "stream",
          "text": [
            "{'交通': 0, '政治': 1, '教育': 2, '環境': 3, '經濟': 4, '藝術': 5, '計算機': 6, '軍事': 7, '醫藥': 8, '體育': 9}\n",
            "{0: '交通', 1: '政治', 2: '教育', 3: '環境', 4: '經濟', 5: '藝術', 6: '計算機', 7: '軍事', 8: '醫藥', 9: '體育'}\n"
          ],
          "name": "stdout"
        },
        {
          "output_type": "execute_result",
          "data": {
            "text/plain": [
              "0      0\n",
              "1      0\n",
              "2      0\n",
              "3      0\n",
              "4      0\n",
              "      ..\n",
              "96     9\n",
              "97     9\n",
              "98     9\n",
              "99     9\n",
              "100    9\n",
              "Name: target, Length: 101, dtype: int64"
            ]
          },
          "metadata": {
            "tags": []
          },
          "execution_count": 3
        }
      ]
    },
    {
      "cell_type": "code",
      "metadata": {
        "id": "i9UTRxQjxCy5",
        "colab_type": "code",
        "colab": {},
        "outputId": "254ade69-cab2-47b4-86b5-c6921822ca69"
      },
      "source": [
        "import os\n",
        "import jieba\n",
        "from urllib.request import urlretrieve\n",
        "\n",
        "# 使用大辭典來做分詞\n",
        "BIG_DICT_PATH = \"dict.txt.big\"\n",
        "if not os.path.exists(BIG_DICT_PATH):\n",
        "    print(BIG_DICT_PATH, \"不存在, 幫你下載\")\n",
        "    url = \"https://github.com/fxsjy/jieba/raw/master/extra_dict/dict.txt.big\"\n",
        "    urlretrieve(url, BIG_DICT_PATH)\n",
        "else:\n",
        "    print(BIG_DICT_PATH, \"已經存在\")\n",
        "jieba.set_dictionary(BIG_DICT_PATH)\n",
        "\n",
        "def newscut(s):\n",
        "    s = \" \".join(jieba.cut(s))\n",
        "    s = s.replace(\"\\r\", \"\").replace(\"\\n\", \"\")\n",
        "    return s\n",
        "# pandas表格: DataFrame 一欄或者一列: Series\n",
        "# Series.apply(功能名字)\n",
        "x_train = train_df[\"content\"].apply(newscut)\n",
        "x_test = test_df[\"content\"].apply(newscut)\n",
        "x_test"
      ],
      "execution_count": null,
      "outputs": [
        {
          "output_type": "stream",
          "text": [
            "Building prefix dict from C:\\Users\\Adam\\PycharmProjects\\classAI\\dict.txt.big ...\n",
            "Loading model from cache C:\\Users\\Adam\\AppData\\Local\\Temp\\jieba.u827c306f2b203707af7baeb436aff989.cache\n"
          ],
          "name": "stderr"
        },
        {
          "output_type": "stream",
          "text": [
            "dict.txt.big 已經存在\n"
          ],
          "name": "stdout"
        },
        {
          "output_type": "stream",
          "text": [
            "Loading model cost 2.352 seconds.\n",
            "Prefix dict has been built successfully.\n"
          ],
          "name": "stderr"
        },
        {
          "output_type": "execute_result",
          "data": {
            "text/plain": [
              "0      日月 光華   --   Traffic _ Info 精華區 文章 閱讀  -------...\n",
              "1      日月 光華   --   Traffic _ Info 精華區 文章 閱讀  -------...\n",
              "2      日月 光華   --   Traffic _ Info 精華區 文章 閱讀  -------...\n",
              "3      三趟 火車 停開   乘客 可 全額 退票    瀏覽 次數 ： 1180         ...\n",
              "4      日月 光華   --   Traffic _ Info 精華區 文章 閱讀  -------...\n",
              "                             ...                        \n",
              "96     最 優秀 選手 無緣 亞運會 健美 賽     　            健美 在 亞洲 運...\n",
              "97        各國 記者 眼中 的 羽毛球 世錦賽      -------------------...\n",
              "98      友好 運動會 第五天   東道主 選手 大顯神威  2001 年 09 月 03 日 02...\n",
              "99     不靠 技術 比 運氣   　 　 第二屆 奧運會 在 巴黎 舉行 ， 同時 這裡 也 正在 ...\n",
              "100    帆   板   運   動   簡   介 （ 二 ）   　 　 我國 在 79 年 由 ...\n",
              "Name: content, Length: 101, dtype: object"
            ]
          },
          "metadata": {
            "tags": []
          },
          "execution_count": 14
        }
      ]
    },
    {
      "cell_type": "code",
      "metadata": {
        "id": "c5v87q_DxCy-",
        "colab_type": "code",
        "colab": {},
        "outputId": "cc84fc15-bd51-4e79-b3cc-70ab7deaefb6"
      },
      "source": [
        "\n",
        "def poemcut(s):\n",
        "    s = \" \".join(jieba.cut(s))\n",
        "    #s = s.replace(\"\\r\", \"\").replace(\"\\n\", \"\")\n",
        "    return s\n",
        "# pandas表格: DataFrame 一欄或者一列: Series\n",
        "# Series.apply(功能名字)\n",
        "x_train = train_df[\"content\"].apply(poemcut)\n",
        "x_test = test_df[\"content\"].apply(poemcut)\n",
        "x_test"
      ],
      "execution_count": null,
      "outputs": [
        {
          "output_type": "execute_result",
          "data": {
            "text/plain": [
              "0      日月 光華   --   Traffic _ Info 精華區 文章 閱讀 \\n -----...\n",
              "1      日月 光華   --   Traffic _ Info 精華區 文章 閱讀 \\n -----...\n",
              "2      日月 光華   --   Traffic _ Info 精華區 文章 閱讀 \\n -----...\n",
              "3      三趟 火車 停開   乘客 可 全額 退票   \\n 瀏覽 次數 ： 1180   \\n  ...\n",
              "4      日月 光華   --   Traffic _ Info 精華區 文章 閱讀 \\n -----...\n",
              "                             ...                        \n",
              "96     最 優秀 選手 無緣 亞運會 健美 賽 \\n   \\n 　   \\n         健美 ...\n",
              "97       \\n 各國 記者 眼中 的 羽毛球 世錦賽 \\n   \\n \\n -----------...\n",
              "98     \\n 友好 運動會 第五天   東道主 選手 大顯神威 \\n 2001 年 09 月 03 ...\n",
              "99     不靠 技術 比 運氣 \\n \\n 　 　 第二屆 奧運會 在 巴黎 舉行 ， 同時 這裡 也...\n",
              "100    帆   板   運   動   簡   介 （ 二 ） \\n \\n 　 　 我國 在 79 ...\n",
              "Name: content, Length: 101, dtype: object"
            ]
          },
          "metadata": {
            "tags": []
          },
          "execution_count": 5
        }
      ]
    },
    {
      "cell_type": "code",
      "metadata": {
        "id": "6nC5PmUFxCzD",
        "colab_type": "code",
        "colab": {}
      },
      "source": [
        "#轉化成數量\n",
        "# Sparse matrix:儲存非 0值\n",
        "from sklearn.feature_extraction.text import CountVectorizer\n",
        "vec = CountVectorizer()\n",
        "x_train_vec = vec.fit_transform(x_train)\n",
        "x_test_vec = vec.transform(x_test)"
      ],
      "execution_count": null,
      "outputs": []
    },
    {
      "cell_type": "code",
      "metadata": {
        "id": "zIuq045XxCzH",
        "colab_type": "code",
        "colab": {},
        "outputId": "5651f411-fbe9-4528-c544-de9949d9c970"
      },
      "source": [
        "from sklearn.naive_bayes import MultinomialNB    # 單純貝氏\n",
        "clf = MultinomialNB()\n",
        "clf.fit(x_train_vec, y_train)"
      ],
      "execution_count": null,
      "outputs": [
        {
          "output_type": "execute_result",
          "data": {
            "text/plain": [
              "MultinomialNB(alpha=1.0, class_prior=None, fit_prior=True)"
            ]
          },
          "metadata": {
            "tags": []
          },
          "execution_count": 7
        }
      ]
    },
    {
      "cell_type": "code",
      "metadata": {
        "id": "WH5182igxCzN",
        "colab_type": "code",
        "colab": {},
        "outputId": "cf106a69-5cfc-4c40-9a76-7a601b2f275b"
      },
      "source": [
        "from sklearn.metrics import accuracy_score\n",
        "pre = clf.predict(x_test_vec)\n",
        "print(\"正確率:\",accuracy_score(pre, y_test))"
      ],
      "execution_count": null,
      "outputs": [
        {
          "output_type": "stream",
          "text": [
            "正確率: 1.0\n"
          ],
          "name": "stdout"
        }
      ]
    },
    {
      "cell_type": "code",
      "metadata": {
        "id": "Y8JGKvTaxCzR",
        "colab_type": "code",
        "colab": {},
        "outputId": "e6fd5f83-17cd-46e9-fe28-9cf611d98001"
      },
      "source": [
        "from sklearn.metrics import confusion_matrix\n",
        "mat = confusion_matrix(y_test, pre)\n",
        "c = [\"{}預測\".format(name) for name in u]\n",
        "i = [\"{}原本\".format(name) for name in u]\n",
        "pd.DataFrame(mat, columns=c, index=i)"
      ],
      "execution_count": null,
      "outputs": [
        {
          "output_type": "execute_result",
          "data": {
            "text/html": [
              "<div>\n",
              "<style scoped>\n",
              "    .dataframe tbody tr th:only-of-type {\n",
              "        vertical-align: middle;\n",
              "    }\n",
              "\n",
              "    .dataframe tbody tr th {\n",
              "        vertical-align: top;\n",
              "    }\n",
              "\n",
              "    .dataframe thead th {\n",
              "        text-align: right;\n",
              "    }\n",
              "</style>\n",
              "<table border=\"1\" class=\"dataframe\">\n",
              "  <thead>\n",
              "    <tr style=\"text-align: right;\">\n",
              "      <th></th>\n",
              "      <th>交通預測</th>\n",
              "      <th>政治預測</th>\n",
              "      <th>教育預測</th>\n",
              "      <th>環境預測</th>\n",
              "      <th>經濟預測</th>\n",
              "      <th>藝術預測</th>\n",
              "      <th>計算機預測</th>\n",
              "      <th>軍事預測</th>\n",
              "      <th>醫藥預測</th>\n",
              "      <th>體育預測</th>\n",
              "    </tr>\n",
              "  </thead>\n",
              "  <tbody>\n",
              "    <tr>\n",
              "      <th>交通原本</th>\n",
              "      <td>10</td>\n",
              "      <td>0</td>\n",
              "      <td>0</td>\n",
              "      <td>0</td>\n",
              "      <td>0</td>\n",
              "      <td>0</td>\n",
              "      <td>0</td>\n",
              "      <td>0</td>\n",
              "      <td>0</td>\n",
              "      <td>0</td>\n",
              "    </tr>\n",
              "    <tr>\n",
              "      <th>政治原本</th>\n",
              "      <td>0</td>\n",
              "      <td>11</td>\n",
              "      <td>0</td>\n",
              "      <td>0</td>\n",
              "      <td>0</td>\n",
              "      <td>0</td>\n",
              "      <td>0</td>\n",
              "      <td>0</td>\n",
              "      <td>0</td>\n",
              "      <td>0</td>\n",
              "    </tr>\n",
              "    <tr>\n",
              "      <th>教育原本</th>\n",
              "      <td>0</td>\n",
              "      <td>0</td>\n",
              "      <td>10</td>\n",
              "      <td>0</td>\n",
              "      <td>0</td>\n",
              "      <td>0</td>\n",
              "      <td>0</td>\n",
              "      <td>0</td>\n",
              "      <td>0</td>\n",
              "      <td>0</td>\n",
              "    </tr>\n",
              "    <tr>\n",
              "      <th>環境原本</th>\n",
              "      <td>0</td>\n",
              "      <td>0</td>\n",
              "      <td>0</td>\n",
              "      <td>10</td>\n",
              "      <td>0</td>\n",
              "      <td>0</td>\n",
              "      <td>0</td>\n",
              "      <td>0</td>\n",
              "      <td>0</td>\n",
              "      <td>0</td>\n",
              "    </tr>\n",
              "    <tr>\n",
              "      <th>經濟原本</th>\n",
              "      <td>0</td>\n",
              "      <td>0</td>\n",
              "      <td>0</td>\n",
              "      <td>0</td>\n",
              "      <td>10</td>\n",
              "      <td>0</td>\n",
              "      <td>0</td>\n",
              "      <td>0</td>\n",
              "      <td>0</td>\n",
              "      <td>0</td>\n",
              "    </tr>\n",
              "    <tr>\n",
              "      <th>藝術原本</th>\n",
              "      <td>0</td>\n",
              "      <td>0</td>\n",
              "      <td>0</td>\n",
              "      <td>0</td>\n",
              "      <td>0</td>\n",
              "      <td>10</td>\n",
              "      <td>0</td>\n",
              "      <td>0</td>\n",
              "      <td>0</td>\n",
              "      <td>0</td>\n",
              "    </tr>\n",
              "    <tr>\n",
              "      <th>計算機原本</th>\n",
              "      <td>0</td>\n",
              "      <td>0</td>\n",
              "      <td>0</td>\n",
              "      <td>0</td>\n",
              "      <td>0</td>\n",
              "      <td>0</td>\n",
              "      <td>10</td>\n",
              "      <td>0</td>\n",
              "      <td>0</td>\n",
              "      <td>0</td>\n",
              "    </tr>\n",
              "    <tr>\n",
              "      <th>軍事原本</th>\n",
              "      <td>0</td>\n",
              "      <td>0</td>\n",
              "      <td>0</td>\n",
              "      <td>0</td>\n",
              "      <td>0</td>\n",
              "      <td>0</td>\n",
              "      <td>0</td>\n",
              "      <td>10</td>\n",
              "      <td>0</td>\n",
              "      <td>0</td>\n",
              "    </tr>\n",
              "    <tr>\n",
              "      <th>醫藥原本</th>\n",
              "      <td>0</td>\n",
              "      <td>0</td>\n",
              "      <td>0</td>\n",
              "      <td>0</td>\n",
              "      <td>0</td>\n",
              "      <td>0</td>\n",
              "      <td>0</td>\n",
              "      <td>0</td>\n",
              "      <td>10</td>\n",
              "      <td>0</td>\n",
              "    </tr>\n",
              "    <tr>\n",
              "      <th>體育原本</th>\n",
              "      <td>0</td>\n",
              "      <td>0</td>\n",
              "      <td>0</td>\n",
              "      <td>0</td>\n",
              "      <td>0</td>\n",
              "      <td>0</td>\n",
              "      <td>0</td>\n",
              "      <td>0</td>\n",
              "      <td>0</td>\n",
              "      <td>10</td>\n",
              "    </tr>\n",
              "  </tbody>\n",
              "</table>\n",
              "</div>"
            ],
            "text/plain": [
              "       交通預測  政治預測  教育預測  環境預測  經濟預測  藝術預測  計算機預測  軍事預測  醫藥預測  體育預測\n",
              "交通原本     10     0     0     0     0     0      0     0     0     0\n",
              "政治原本      0    11     0     0     0     0      0     0     0     0\n",
              "教育原本      0     0    10     0     0     0      0     0     0     0\n",
              "環境原本      0     0     0    10     0     0      0     0     0     0\n",
              "經濟原本      0     0     0     0    10     0      0     0     0     0\n",
              "藝術原本      0     0     0     0     0    10      0     0     0     0\n",
              "計算機原本     0     0     0     0     0     0     10     0     0     0\n",
              "軍事原本      0     0     0     0     0     0      0    10     0     0\n",
              "醫藥原本      0     0     0     0     0     0      0     0    10     0\n",
              "體育原本      0     0     0     0     0     0      0     0     0    10"
            ]
          },
          "metadata": {
            "tags": []
          },
          "execution_count": 9
        }
      ]
    },
    {
      "cell_type": "code",
      "metadata": {
        "id": "MoNmE3bAxCzV",
        "colab_type": "code",
        "colab": {},
        "outputId": "b20c6e8a-84d1-4f9f-b2dd-0e8755e1e8f6"
      },
      "source": [
        "# 回顧\n",
        "p = input(\"輸入一篇新聞:\")\n",
        "# 注意[]: [第一首詩, 第二首詩]\n",
        "p = vec.transform([newscut(p)])\n",
        "# 注意: [第一個答案, 第二個答案]\n",
        "ans = clf.predict(p)[0]\n",
        "print(\"分類應該是:\", reverse_trans[ans])\n",
        "proba = clf.predict_proba(p)[0]\n",
        "for n, prob in sorted(zip(u, proba), key=lambda x:x[1], reverse=True):\n",
        "    print(n, \"的機率:\", prob * 100, \"%\")\n"
      ],
      "execution_count": null,
      "outputs": [
        {
          "output_type": "stream",
          "text": [
            "輸入一篇新聞:輸入一篇新聞:這並非巴西總統波索納洛（Jair Bolsonaro）在面對涉及其責任的重要議題時，第一次回答：「那又怎麼樣？」  巴西昨天在24小時內新增474例2019冠狀病毒疾病（COVID-19，俗稱武漢肺炎）死亡病例，病死總數累計5017例，超越中國官方記錄的4637例，成為全球第9高\n",
            "分類應該是: 經濟\n",
            "經濟 的機率: 99.92274520558587 %\n",
            "政治 的機率: 0.05810411099262157 %\n",
            "環境 的機率: 0.01051270959111841 %\n",
            "軍事 的機率: 0.00773121963515512 %\n",
            "體育 的機率: 0.0007819615641183023 %\n",
            "藝術 的機率: 5.890114597270788e-05 %\n",
            "計算機 的機率: 4.9899093372649034e-05 %\n",
            "醫藥 的機率: 1.549132004992491e-05 %\n",
            "教育 的機率: 4.6135967920695344e-07 %\n",
            "交通 的機率: 3.971387867946892e-08 %\n"
          ],
          "name": "stdout"
        }
      ]
    },
    {
      "cell_type": "code",
      "metadata": {
        "id": "XeIFctaoxCzZ",
        "colab_type": "code",
        "colab": {},
        "outputId": "e7373880-837c-488e-f3b3-d26a768c0434"
      },
      "source": [
        "# 本來應該def, 直接用lambda\n",
        "def s(x):\n",
        "    return x[1]\n",
        "\n",
        "sorted(zip(u, proba), key=lambda x:x[1], reverse=True)"
      ],
      "execution_count": null,
      "outputs": [
        {
          "output_type": "execute_result",
          "data": {
            "text/plain": [
              "[('經濟', 0.9992274520558587),\n",
              " ('政治', 0.0005810411099262157),\n",
              " ('環境', 0.0001051270959111841),\n",
              " ('軍事', 7.73121963515512e-05),\n",
              " ('體育', 7.819615641183023e-06),\n",
              " ('藝術', 5.890114597270787e-07),\n",
              " ('計算機', 4.989909337264904e-07),\n",
              " ('醫藥', 1.549132004992491e-07),\n",
              " ('教育', 4.613596792069535e-09),\n",
              " ('交通', 3.971387867946892e-10)]"
            ]
          },
          "metadata": {
            "tags": []
          },
          "execution_count": 24
        }
      ]
    },
    {
      "cell_type": "code",
      "metadata": {
        "id": "63pSeA0pxCzf",
        "colab_type": "code",
        "colab": {}
      },
      "source": [
        ""
      ],
      "execution_count": null,
      "outputs": []
    },
    {
      "cell_type": "code",
      "metadata": {
        "id": "xCRlPWnaxCzj",
        "colab_type": "code",
        "colab": {}
      },
      "source": [
        ""
      ],
      "execution_count": null,
      "outputs": []
    }
  ]
}
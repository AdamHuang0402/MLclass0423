{
  "nbformat": 4,
  "nbformat_minor": 0,
  "metadata": {
    "kernelspec": {
      "display_name": "Python 3",
      "language": "python",
      "name": "python3"
    },
    "language_info": {
      "codemirror_mode": {
        "name": "ipython",
        "version": 3
      },
      "file_extension": ".py",
      "mimetype": "text/x-python",
      "name": "python",
      "nbconvert_exporter": "python",
      "pygments_lexer": "ipython3",
      "version": "3.7.5"
    },
    "colab": {
      "name": "regression.ipynb",
      "provenance": [],
      "include_colab_link": true
    }
  },
  "cells": [
    {
      "cell_type": "markdown",
      "metadata": {
        "id": "view-in-github",
        "colab_type": "text"
      },
      "source": [
        "<a href=\"https://colab.research.google.com/github/AdamHuang0402/MLclass0423/blob/master/regression.ipynb\" target=\"_parent\"><img src=\"https://colab.research.google.com/assets/colab-badge.svg\" alt=\"Open In Colab\"/></a>"
      ]
    },
    {
      "cell_type": "code",
      "metadata": {
        "id": "qxxvmyyaYKwi",
        "colab_type": "code",
        "colab": {},
        "outputId": "5dab101d-5cb6-4a12-f593-d4ebc1b00b64"
      },
      "source": [
        "##波士頓房價預測\n",
        "\n",
        "# CRIM：人均犯罪率\n",
        "\n",
        "# ZN：25,000平方英尺以上民用土地的比例\n",
        "\n",
        "# INDUS：城镇非零售业商用土地比例\n",
        "\n",
        "# CHAS：是否邻近查尔斯河，1是邻近，0是不邻近\n",
        "\n",
        "# NOX：一氧化氮浓度（千万分之一）\n",
        "\n",
        "# RM：住宅的平均房间数\n",
        "\n",
        "# AGE：自住且建于1940年前的房屋比例\n",
        "\n",
        "# DIS：到5个波士顿就业中心的加权距离\n",
        "\n",
        "# RAD：到高速公路的便捷度指数\n",
        "\n",
        "# TAX：每万元的房产税率\n",
        "\n",
        "# PTRATIO：城镇学生教师比例\n",
        "\n",
        "# B： 1000(Bk − 0.63)2 其中Bk是城镇中黑人比例\n",
        "\n",
        "# LSTAT：低收入人群比例\n",
        "\n",
        "# MEDV：自住房中位数价格，单位是千元\"\n",
        "\n",
        "import pandas as pd\n",
        "from sklearn.datasets import load_boston\n",
        "boston = load_boston()\n",
        "df = pd.DataFrame(boston[\"data\"], \n",
        "                  columns=boston[\"feature_names\"])\n",
        "df[\"ans\"] = boston[\"target\"]\n",
        "df"
      ],
      "execution_count": null,
      "outputs": [
        {
          "output_type": "execute_result",
          "data": {
            "text/html": [
              "<div>\n",
              "<style scoped>\n",
              "    .dataframe tbody tr th:only-of-type {\n",
              "        vertical-align: middle;\n",
              "    }\n",
              "\n",
              "    .dataframe tbody tr th {\n",
              "        vertical-align: top;\n",
              "    }\n",
              "\n",
              "    .dataframe thead th {\n",
              "        text-align: right;\n",
              "    }\n",
              "</style>\n",
              "<table border=\"1\" class=\"dataframe\">\n",
              "  <thead>\n",
              "    <tr style=\"text-align: right;\">\n",
              "      <th></th>\n",
              "      <th>CRIM</th>\n",
              "      <th>ZN</th>\n",
              "      <th>INDUS</th>\n",
              "      <th>CHAS</th>\n",
              "      <th>NOX</th>\n",
              "      <th>RM</th>\n",
              "      <th>AGE</th>\n",
              "      <th>DIS</th>\n",
              "      <th>RAD</th>\n",
              "      <th>TAX</th>\n",
              "      <th>PTRATIO</th>\n",
              "      <th>B</th>\n",
              "      <th>LSTAT</th>\n",
              "      <th>ans</th>\n",
              "    </tr>\n",
              "  </thead>\n",
              "  <tbody>\n",
              "    <tr>\n",
              "      <th>0</th>\n",
              "      <td>0.00632</td>\n",
              "      <td>18.0</td>\n",
              "      <td>2.31</td>\n",
              "      <td>0.0</td>\n",
              "      <td>0.538</td>\n",
              "      <td>6.575</td>\n",
              "      <td>65.2</td>\n",
              "      <td>4.0900</td>\n",
              "      <td>1.0</td>\n",
              "      <td>296.0</td>\n",
              "      <td>15.3</td>\n",
              "      <td>396.90</td>\n",
              "      <td>4.98</td>\n",
              "      <td>24.0</td>\n",
              "    </tr>\n",
              "    <tr>\n",
              "      <th>1</th>\n",
              "      <td>0.02731</td>\n",
              "      <td>0.0</td>\n",
              "      <td>7.07</td>\n",
              "      <td>0.0</td>\n",
              "      <td>0.469</td>\n",
              "      <td>6.421</td>\n",
              "      <td>78.9</td>\n",
              "      <td>4.9671</td>\n",
              "      <td>2.0</td>\n",
              "      <td>242.0</td>\n",
              "      <td>17.8</td>\n",
              "      <td>396.90</td>\n",
              "      <td>9.14</td>\n",
              "      <td>21.6</td>\n",
              "    </tr>\n",
              "    <tr>\n",
              "      <th>2</th>\n",
              "      <td>0.02729</td>\n",
              "      <td>0.0</td>\n",
              "      <td>7.07</td>\n",
              "      <td>0.0</td>\n",
              "      <td>0.469</td>\n",
              "      <td>7.185</td>\n",
              "      <td>61.1</td>\n",
              "      <td>4.9671</td>\n",
              "      <td>2.0</td>\n",
              "      <td>242.0</td>\n",
              "      <td>17.8</td>\n",
              "      <td>392.83</td>\n",
              "      <td>4.03</td>\n",
              "      <td>34.7</td>\n",
              "    </tr>\n",
              "    <tr>\n",
              "      <th>3</th>\n",
              "      <td>0.03237</td>\n",
              "      <td>0.0</td>\n",
              "      <td>2.18</td>\n",
              "      <td>0.0</td>\n",
              "      <td>0.458</td>\n",
              "      <td>6.998</td>\n",
              "      <td>45.8</td>\n",
              "      <td>6.0622</td>\n",
              "      <td>3.0</td>\n",
              "      <td>222.0</td>\n",
              "      <td>18.7</td>\n",
              "      <td>394.63</td>\n",
              "      <td>2.94</td>\n",
              "      <td>33.4</td>\n",
              "    </tr>\n",
              "    <tr>\n",
              "      <th>4</th>\n",
              "      <td>0.06905</td>\n",
              "      <td>0.0</td>\n",
              "      <td>2.18</td>\n",
              "      <td>0.0</td>\n",
              "      <td>0.458</td>\n",
              "      <td>7.147</td>\n",
              "      <td>54.2</td>\n",
              "      <td>6.0622</td>\n",
              "      <td>3.0</td>\n",
              "      <td>222.0</td>\n",
              "      <td>18.7</td>\n",
              "      <td>396.90</td>\n",
              "      <td>5.33</td>\n",
              "      <td>36.2</td>\n",
              "    </tr>\n",
              "    <tr>\n",
              "      <th>...</th>\n",
              "      <td>...</td>\n",
              "      <td>...</td>\n",
              "      <td>...</td>\n",
              "      <td>...</td>\n",
              "      <td>...</td>\n",
              "      <td>...</td>\n",
              "      <td>...</td>\n",
              "      <td>...</td>\n",
              "      <td>...</td>\n",
              "      <td>...</td>\n",
              "      <td>...</td>\n",
              "      <td>...</td>\n",
              "      <td>...</td>\n",
              "      <td>...</td>\n",
              "    </tr>\n",
              "    <tr>\n",
              "      <th>501</th>\n",
              "      <td>0.06263</td>\n",
              "      <td>0.0</td>\n",
              "      <td>11.93</td>\n",
              "      <td>0.0</td>\n",
              "      <td>0.573</td>\n",
              "      <td>6.593</td>\n",
              "      <td>69.1</td>\n",
              "      <td>2.4786</td>\n",
              "      <td>1.0</td>\n",
              "      <td>273.0</td>\n",
              "      <td>21.0</td>\n",
              "      <td>391.99</td>\n",
              "      <td>9.67</td>\n",
              "      <td>22.4</td>\n",
              "    </tr>\n",
              "    <tr>\n",
              "      <th>502</th>\n",
              "      <td>0.04527</td>\n",
              "      <td>0.0</td>\n",
              "      <td>11.93</td>\n",
              "      <td>0.0</td>\n",
              "      <td>0.573</td>\n",
              "      <td>6.120</td>\n",
              "      <td>76.7</td>\n",
              "      <td>2.2875</td>\n",
              "      <td>1.0</td>\n",
              "      <td>273.0</td>\n",
              "      <td>21.0</td>\n",
              "      <td>396.90</td>\n",
              "      <td>9.08</td>\n",
              "      <td>20.6</td>\n",
              "    </tr>\n",
              "    <tr>\n",
              "      <th>503</th>\n",
              "      <td>0.06076</td>\n",
              "      <td>0.0</td>\n",
              "      <td>11.93</td>\n",
              "      <td>0.0</td>\n",
              "      <td>0.573</td>\n",
              "      <td>6.976</td>\n",
              "      <td>91.0</td>\n",
              "      <td>2.1675</td>\n",
              "      <td>1.0</td>\n",
              "      <td>273.0</td>\n",
              "      <td>21.0</td>\n",
              "      <td>396.90</td>\n",
              "      <td>5.64</td>\n",
              "      <td>23.9</td>\n",
              "    </tr>\n",
              "    <tr>\n",
              "      <th>504</th>\n",
              "      <td>0.10959</td>\n",
              "      <td>0.0</td>\n",
              "      <td>11.93</td>\n",
              "      <td>0.0</td>\n",
              "      <td>0.573</td>\n",
              "      <td>6.794</td>\n",
              "      <td>89.3</td>\n",
              "      <td>2.3889</td>\n",
              "      <td>1.0</td>\n",
              "      <td>273.0</td>\n",
              "      <td>21.0</td>\n",
              "      <td>393.45</td>\n",
              "      <td>6.48</td>\n",
              "      <td>22.0</td>\n",
              "    </tr>\n",
              "    <tr>\n",
              "      <th>505</th>\n",
              "      <td>0.04741</td>\n",
              "      <td>0.0</td>\n",
              "      <td>11.93</td>\n",
              "      <td>0.0</td>\n",
              "      <td>0.573</td>\n",
              "      <td>6.030</td>\n",
              "      <td>80.8</td>\n",
              "      <td>2.5050</td>\n",
              "      <td>1.0</td>\n",
              "      <td>273.0</td>\n",
              "      <td>21.0</td>\n",
              "      <td>396.90</td>\n",
              "      <td>7.88</td>\n",
              "      <td>11.9</td>\n",
              "    </tr>\n",
              "  </tbody>\n",
              "</table>\n",
              "<p>506 rows × 14 columns</p>\n",
              "</div>"
            ],
            "text/plain": [
              "        CRIM    ZN  INDUS  CHAS    NOX     RM   AGE     DIS  RAD    TAX  \\\n",
              "0    0.00632  18.0   2.31   0.0  0.538  6.575  65.2  4.0900  1.0  296.0   \n",
              "1    0.02731   0.0   7.07   0.0  0.469  6.421  78.9  4.9671  2.0  242.0   \n",
              "2    0.02729   0.0   7.07   0.0  0.469  7.185  61.1  4.9671  2.0  242.0   \n",
              "3    0.03237   0.0   2.18   0.0  0.458  6.998  45.8  6.0622  3.0  222.0   \n",
              "4    0.06905   0.0   2.18   0.0  0.458  7.147  54.2  6.0622  3.0  222.0   \n",
              "..       ...   ...    ...   ...    ...    ...   ...     ...  ...    ...   \n",
              "501  0.06263   0.0  11.93   0.0  0.573  6.593  69.1  2.4786  1.0  273.0   \n",
              "502  0.04527   0.0  11.93   0.0  0.573  6.120  76.7  2.2875  1.0  273.0   \n",
              "503  0.06076   0.0  11.93   0.0  0.573  6.976  91.0  2.1675  1.0  273.0   \n",
              "504  0.10959   0.0  11.93   0.0  0.573  6.794  89.3  2.3889  1.0  273.0   \n",
              "505  0.04741   0.0  11.93   0.0  0.573  6.030  80.8  2.5050  1.0  273.0   \n",
              "\n",
              "     PTRATIO       B  LSTAT   ans  \n",
              "0       15.3  396.90   4.98  24.0  \n",
              "1       17.8  396.90   9.14  21.6  \n",
              "2       17.8  392.83   4.03  34.7  \n",
              "3       18.7  394.63   2.94  33.4  \n",
              "4       18.7  396.90   5.33  36.2  \n",
              "..       ...     ...    ...   ...  \n",
              "501     21.0  391.99   9.67  22.4  \n",
              "502     21.0  396.90   9.08  20.6  \n",
              "503     21.0  396.90   5.64  23.9  \n",
              "504     21.0  393.45   6.48  22.0  \n",
              "505     21.0  396.90   7.88  11.9  \n",
              "\n",
              "[506 rows x 14 columns]"
            ]
          },
          "metadata": {
            "tags": []
          },
          "execution_count": 1
        }
      ]
    },
    {
      "cell_type": "code",
      "metadata": {
        "id": "-_BY6tmUYKwq",
        "colab_type": "code",
        "colab": {}
      },
      "source": [
        "from sklearn.model_selection import train_test_split\n",
        "# [90%題目, 10%題目, 90%答案, 10%答案]\n",
        "x_train, x_test, y_train, y_test = train_test_split(boston[\"data\"], \n",
        "                                                    boston[\"target\"], \n",
        "                                                    test_size=0.1)"
      ],
      "execution_count": null,
      "outputs": []
    },
    {
      "cell_type": "code",
      "metadata": {
        "id": "ZrQkCrqXYKwv",
        "colab_type": "code",
        "colab": {},
        "outputId": "aba36cec-4ab1-4d35-90f4-af33a22c3823"
      },
      "source": [
        "from sklearn.tree import DecisionTreeRegressor\n",
        "reg = DecisionTreeRegressor(max_depth=5)\n",
        "reg.fit(x_train, y_train)"
      ],
      "execution_count": null,
      "outputs": [
        {
          "output_type": "execute_result",
          "data": {
            "text/plain": [
              "DecisionTreeRegressor(ccp_alpha=0.0, criterion='mse', max_depth=5,\n",
              "                      max_features=None, max_leaf_nodes=None,\n",
              "                      min_impurity_decrease=0.0, min_impurity_split=None,\n",
              "                      min_samples_leaf=1, min_samples_split=2,\n",
              "                      min_weight_fraction_leaf=0.0, presort='deprecated',\n",
              "                      random_state=None, splitter='best')"
            ]
          },
          "metadata": {
            "tags": []
          },
          "execution_count": 3
        }
      ]
    },
    {
      "cell_type": "code",
      "metadata": {
        "id": "djSqSvLGYKwz",
        "colab_type": "code",
        "colab": {},
        "outputId": "2be927c2-6a29-4b19-e0ad-a567522657a0"
      },
      "source": [
        "import graphviz\n",
        "from sklearn.tree import export_graphviz\n",
        "g = export_graphviz(reg, \n",
        "                    feature_names=boston[\"feature_names\"],\n",
        "                    max_depth=3,\n",
        "                    filled=True)\n",
        "graphviz.Source(g)"
      ],
      "execution_count": null,
      "outputs": [
        {
          "output_type": "execute_result",
          "data": {
            "image/svg+xml": "<?xml version=\"1.0\" encoding=\"UTF-8\" standalone=\"no\"?>\r\n<!DOCTYPE svg PUBLIC \"-//W3C//DTD SVG 1.1//EN\"\r\n \"http://www.w3.org/Graphics/SVG/1.1/DTD/svg11.dtd\">\r\n<!-- Generated by graphviz version 2.38.0 (20140413.2041)\r\n -->\r\n<!-- Title: Tree Pages: 1 -->\r\n<svg width=\"1065pt\" height=\"460pt\"\r\n viewBox=\"0.00 0.00 1064.50 460.00\" xmlns=\"http://www.w3.org/2000/svg\" xmlns:xlink=\"http://www.w3.org/1999/xlink\">\r\n<g id=\"graph0\" class=\"graph\" transform=\"scale(1 1) rotate(0) translate(4 456)\">\r\n<title>Tree</title>\r\n<polygon fill=\"white\" stroke=\"none\" points=\"-4,4 -4,-456 1060.5,-456 1060.5,4 -4,4\"/>\r\n<!-- 0 -->\r\n<g id=\"node1\" class=\"node\"><title>0</title>\r\n<polygon fill=\"#f7d6be\" stroke=\"black\" points=\"619,-452 521,-452 521,-384 619,-384 619,-452\"/>\r\n<text text-anchor=\"middle\" x=\"570\" y=\"-436.8\" font-family=\"Times New Roman,serif\" font-size=\"14.00\">RM &lt;= 6.941</text>\r\n<text text-anchor=\"middle\" x=\"570\" y=\"-421.8\" font-family=\"Times New Roman,serif\" font-size=\"14.00\">mse = 85.512</text>\r\n<text text-anchor=\"middle\" x=\"570\" y=\"-406.8\" font-family=\"Times New Roman,serif\" font-size=\"14.00\">samples = 455</text>\r\n<text text-anchor=\"middle\" x=\"570\" y=\"-391.8\" font-family=\"Times New Roman,serif\" font-size=\"14.00\">value = 22.411</text>\r\n</g>\r\n<!-- 1 -->\r\n<g id=\"node2\" class=\"node\"><title>1</title>\r\n<polygon fill=\"#f8decb\" stroke=\"black\" points=\"496.5,-348 387.5,-348 387.5,-280 496.5,-280 496.5,-348\"/>\r\n<text text-anchor=\"middle\" x=\"442\" y=\"-332.8\" font-family=\"Times New Roman,serif\" font-size=\"14.00\">LSTAT &lt;= 14.4</text>\r\n<text text-anchor=\"middle\" x=\"442\" y=\"-317.8\" font-family=\"Times New Roman,serif\" font-size=\"14.00\">mse = 39.621</text>\r\n<text text-anchor=\"middle\" x=\"442\" y=\"-302.8\" font-family=\"Times New Roman,serif\" font-size=\"14.00\">samples = 388</text>\r\n<text text-anchor=\"middle\" x=\"442\" y=\"-287.8\" font-family=\"Times New Roman,serif\" font-size=\"14.00\">value = 19.796</text>\r\n</g>\r\n<!-- 0&#45;&gt;1 -->\r\n<g id=\"edge1\" class=\"edge\"><title>0&#45;&gt;1</title>\r\n<path fill=\"none\" stroke=\"black\" d=\"M528.442,-383.884C516.705,-374.531 503.816,-364.259 491.654,-354.568\"/>\r\n<polygon fill=\"black\" stroke=\"black\" points=\"493.789,-351.794 483.787,-348.299 489.427,-357.269 493.789,-351.794\"/>\r\n<text text-anchor=\"middle\" x=\"486.596\" y=\"-369.441\" font-family=\"Times New Roman,serif\" font-size=\"14.00\">True</text>\r\n</g>\r\n<!-- 28 -->\r\n<g id=\"node17\" class=\"node\"><title>28</title>\r\n<polygon fill=\"#eda775\" stroke=\"black\" points=\"747,-348 649,-348 649,-280 747,-280 747,-348\"/>\r\n<text text-anchor=\"middle\" x=\"698\" y=\"-332.8\" font-family=\"Times New Roman,serif\" font-size=\"14.00\">RM &lt;= 7.437</text>\r\n<text text-anchor=\"middle\" x=\"698\" y=\"-317.8\" font-family=\"Times New Roman,serif\" font-size=\"14.00\">mse = 82.36</text>\r\n<text text-anchor=\"middle\" x=\"698\" y=\"-302.8\" font-family=\"Times New Roman,serif\" font-size=\"14.00\">samples = 67</text>\r\n<text text-anchor=\"middle\" x=\"698\" y=\"-287.8\" font-family=\"Times New Roman,serif\" font-size=\"14.00\">value = 37.554</text>\r\n</g>\r\n<!-- 0&#45;&gt;28 -->\r\n<g id=\"edge16\" class=\"edge\"><title>0&#45;&gt;28</title>\r\n<path fill=\"none\" stroke=\"black\" d=\"M611.558,-383.884C623.295,-374.531 636.184,-364.259 648.346,-354.568\"/>\r\n<polygon fill=\"black\" stroke=\"black\" points=\"650.573,-357.269 656.213,-348.299 646.211,-351.794 650.573,-357.269\"/>\r\n<text text-anchor=\"middle\" x=\"653.404\" y=\"-369.441\" font-family=\"Times New Roman,serif\" font-size=\"14.00\">False</text>\r\n</g>\r\n<!-- 2 -->\r\n<g id=\"node3\" class=\"node\"><title>2</title>\r\n<polygon fill=\"#f6d3ba\" stroke=\"black\" points=\"282,-244 184,-244 184,-176 282,-176 282,-244\"/>\r\n<text text-anchor=\"middle\" x=\"233\" y=\"-228.8\" font-family=\"Times New Roman,serif\" font-size=\"14.00\">DIS &lt;= 1.373</text>\r\n<text text-anchor=\"middle\" x=\"233\" y=\"-213.8\" font-family=\"Times New Roman,serif\" font-size=\"14.00\">mse = 24.099</text>\r\n<text text-anchor=\"middle\" x=\"233\" y=\"-198.8\" font-family=\"Times New Roman,serif\" font-size=\"14.00\">samples = 228</text>\r\n<text text-anchor=\"middle\" x=\"233\" y=\"-183.8\" font-family=\"Times New Roman,serif\" font-size=\"14.00\">value = 23.298</text>\r\n</g>\r\n<!-- 1&#45;&gt;2 -->\r\n<g id=\"edge2\" class=\"edge\"><title>1&#45;&gt;2</title>\r\n<path fill=\"none\" stroke=\"black\" d=\"M387.361,-286.334C357.876,-271.944 321.475,-254.179 291.427,-239.515\"/>\r\n<polygon fill=\"black\" stroke=\"black\" points=\"292.843,-236.311 282.321,-235.07 289.772,-242.602 292.843,-236.311\"/>\r\n</g>\r\n<!-- 13 -->\r\n<g id=\"node10\" class=\"node\"><title>13</title>\r\n<polygon fill=\"#fbede3\" stroke=\"black\" points=\"495.5,-244 388.5,-244 388.5,-176 495.5,-176 495.5,-244\"/>\r\n<text text-anchor=\"middle\" x=\"442\" y=\"-228.8\" font-family=\"Times New Roman,serif\" font-size=\"14.00\">CRIM &lt;= 7.465</text>\r\n<text text-anchor=\"middle\" x=\"442\" y=\"-213.8\" font-family=\"Times New Roman,serif\" font-size=\"14.00\">mse = 19.361</text>\r\n<text text-anchor=\"middle\" x=\"442\" y=\"-198.8\" font-family=\"Times New Roman,serif\" font-size=\"14.00\">samples = 160</text>\r\n<text text-anchor=\"middle\" x=\"442\" y=\"-183.8\" font-family=\"Times New Roman,serif\" font-size=\"14.00\">value = 14.806</text>\r\n</g>\r\n<!-- 1&#45;&gt;13 -->\r\n<g id=\"edge9\" class=\"edge\"><title>1&#45;&gt;13</title>\r\n<path fill=\"none\" stroke=\"black\" d=\"M442,-279.884C442,-271.778 442,-262.982 442,-254.472\"/>\r\n<polygon fill=\"black\" stroke=\"black\" points=\"445.5,-254.299 442,-244.299 438.5,-254.299 445.5,-254.299\"/>\r\n</g>\r\n<!-- 3 -->\r\n<g id=\"node4\" class=\"node\"><title>3</title>\r\n<polygon fill=\"#e99254\" stroke=\"black\" points=\"156,-140 42,-140 42,-72 156,-72 156,-140\"/>\r\n<text text-anchor=\"middle\" x=\"99\" y=\"-124.8\" font-family=\"Times New Roman,serif\" font-size=\"14.00\">CRIM &lt;= 10.592</text>\r\n<text text-anchor=\"middle\" x=\"99\" y=\"-109.8\" font-family=\"Times New Roman,serif\" font-size=\"14.00\">mse = 91.577</text>\r\n<text text-anchor=\"middle\" x=\"99\" y=\"-94.8\" font-family=\"Times New Roman,serif\" font-size=\"14.00\">samples = 4</text>\r\n<text text-anchor=\"middle\" x=\"99\" y=\"-79.8\" font-family=\"Times New Roman,serif\" font-size=\"14.00\">value = 44.475</text>\r\n</g>\r\n<!-- 2&#45;&gt;3 -->\r\n<g id=\"edge3\" class=\"edge\"><title>2&#45;&gt;3</title>\r\n<path fill=\"none\" stroke=\"black\" d=\"M189.494,-175.884C177.207,-166.531 163.713,-156.259 150.982,-146.568\"/>\r\n<polygon fill=\"black\" stroke=\"black\" points=\"152.823,-143.571 142.746,-140.299 148.583,-149.141 152.823,-143.571\"/>\r\n</g>\r\n<!-- 6 -->\r\n<g id=\"node7\" class=\"node\"><title>6</title>\r\n<polygon fill=\"#f6d4bc\" stroke=\"black\" points=\"282,-140 184,-140 184,-72 282,-72 282,-140\"/>\r\n<text text-anchor=\"middle\" x=\"233\" y=\"-124.8\" font-family=\"Times New Roman,serif\" font-size=\"14.00\">RM &lt;= 6.543</text>\r\n<text text-anchor=\"middle\" x=\"233\" y=\"-109.8\" font-family=\"Times New Roman,serif\" font-size=\"14.00\">mse = 14.743</text>\r\n<text text-anchor=\"middle\" x=\"233\" y=\"-94.8\" font-family=\"Times New Roman,serif\" font-size=\"14.00\">samples = 224</text>\r\n<text text-anchor=\"middle\" x=\"233\" y=\"-79.8\" font-family=\"Times New Roman,serif\" font-size=\"14.00\">value = 22.92</text>\r\n</g>\r\n<!-- 2&#45;&gt;6 -->\r\n<g id=\"edge6\" class=\"edge\"><title>2&#45;&gt;6</title>\r\n<path fill=\"none\" stroke=\"black\" d=\"M233,-175.884C233,-167.778 233,-158.982 233,-150.472\"/>\r\n<polygon fill=\"black\" stroke=\"black\" points=\"236.5,-150.299 233,-140.299 229.5,-150.299 236.5,-150.299\"/>\r\n</g>\r\n<!-- 4 -->\r\n<g id=\"node5\" class=\"node\"><title>4</title>\r\n<polygon fill=\"#c0c0c0\" stroke=\"black\" points=\"54,-36 0,-36 0,-0 54,-0 54,-36\"/>\r\n<text text-anchor=\"middle\" x=\"27\" y=\"-14.3\" font-family=\"Times New Roman,serif\" font-size=\"14.00\">(...)</text>\r\n</g>\r\n<!-- 3&#45;&gt;4 -->\r\n<g id=\"edge4\" class=\"edge\"><title>3&#45;&gt;4</title>\r\n<path fill=\"none\" stroke=\"black\" d=\"M71.3688,-71.9961C63.6754,-62.8067 55.4421,-52.9725 48.1826,-44.3014\"/>\r\n<polygon fill=\"black\" stroke=\"black\" points=\"50.6733,-41.8242 41.5703,-36.4034 45.306,-46.3178 50.6733,-41.8242\"/>\r\n</g>\r\n<!-- 5 -->\r\n<g id=\"node6\" class=\"node\"><title>5</title>\r\n<polygon fill=\"#c0c0c0\" stroke=\"black\" points=\"126,-36 72,-36 72,-0 126,-0 126,-36\"/>\r\n<text text-anchor=\"middle\" x=\"99\" y=\"-14.3\" font-family=\"Times New Roman,serif\" font-size=\"14.00\">(...)</text>\r\n</g>\r\n<!-- 3&#45;&gt;5 -->\r\n<g id=\"edge5\" class=\"edge\"><title>3&#45;&gt;5</title>\r\n<path fill=\"none\" stroke=\"black\" d=\"M99,-71.9961C99,-63.5646 99,-54.5902 99,-46.4696\"/>\r\n<polygon fill=\"black\" stroke=\"black\" points=\"102.5,-46.4033 99,-36.4034 95.5001,-46.4034 102.5,-46.4033\"/>\r\n</g>\r\n<!-- 7 -->\r\n<g id=\"node8\" class=\"node\"><title>7</title>\r\n<polygon fill=\"#c0c0c0\" stroke=\"black\" points=\"198,-36 144,-36 144,-0 198,-0 198,-36\"/>\r\n<text text-anchor=\"middle\" x=\"171\" y=\"-14.3\" font-family=\"Times New Roman,serif\" font-size=\"14.00\">(...)</text>\r\n</g>\r\n<!-- 6&#45;&gt;7 -->\r\n<g id=\"edge7\" class=\"edge\"><title>6&#45;&gt;7</title>\r\n<path fill=\"none\" stroke=\"black\" d=\"M209.206,-71.9961C202.65,-62.9014 195.638,-53.1752 189.434,-44.57\"/>\r\n<polygon fill=\"black\" stroke=\"black\" points=\"192.234,-42.4683 183.547,-36.4034 186.556,-46.562 192.234,-42.4683\"/>\r\n</g>\r\n<!-- 10 -->\r\n<g id=\"node9\" class=\"node\"><title>10</title>\r\n<polygon fill=\"#c0c0c0\" stroke=\"black\" points=\"270,-36 216,-36 216,-0 270,-0 270,-36\"/>\r\n<text text-anchor=\"middle\" x=\"243\" y=\"-14.3\" font-family=\"Times New Roman,serif\" font-size=\"14.00\">(...)</text>\r\n</g>\r\n<!-- 6&#45;&gt;10 -->\r\n<g id=\"edge8\" class=\"edge\"><title>6&#45;&gt;10</title>\r\n<path fill=\"none\" stroke=\"black\" d=\"M236.838,-71.9961C237.818,-63.5646 238.862,-54.5902 239.806,-46.4696\"/>\r\n<polygon fill=\"black\" stroke=\"black\" points=\"243.298,-46.7407 240.976,-36.4034 236.345,-45.9322 243.298,-46.7407\"/>\r\n</g>\r\n<!-- 14 -->\r\n<g id=\"node11\" class=\"node\"><title>14</title>\r\n<polygon fill=\"#fae7d9\" stroke=\"black\" points=\"429,-140 329,-140 329,-72 429,-72 429,-140\"/>\r\n<text text-anchor=\"middle\" x=\"379\" y=\"-124.8\" font-family=\"Times New Roman,serif\" font-size=\"14.00\">AGE &lt;= 80.75</text>\r\n<text text-anchor=\"middle\" x=\"379\" y=\"-109.8\" font-family=\"Times New Roman,serif\" font-size=\"14.00\">mse = 11.376</text>\r\n<text text-anchor=\"middle\" x=\"379\" y=\"-94.8\" font-family=\"Times New Roman,serif\" font-size=\"14.00\">samples = 93</text>\r\n<text text-anchor=\"middle\" x=\"379\" y=\"-79.8\" font-family=\"Times New Roman,serif\" font-size=\"14.00\">value = 16.942</text>\r\n</g>\r\n<!-- 13&#45;&gt;14 -->\r\n<g id=\"edge10\" class=\"edge\"><title>13&#45;&gt;14</title>\r\n<path fill=\"none\" stroke=\"black\" d=\"M421.546,-175.884C416.264,-167.332 410.508,-158.013 404.986,-149.072\"/>\r\n<polygon fill=\"black\" stroke=\"black\" points=\"407.8,-146.968 399.567,-140.299 401.844,-150.647 407.8,-146.968\"/>\r\n</g>\r\n<!-- 21 -->\r\n<g id=\"node14\" class=\"node\"><title>21</title>\r\n<polygon fill=\"#fdf6f1\" stroke=\"black\" points=\"563,-140 447,-140 447,-72 563,-72 563,-140\"/>\r\n<text text-anchor=\"middle\" x=\"505\" y=\"-124.8\" font-family=\"Times New Roman,serif\" font-size=\"14.00\">LSTAT &lt;= 19.85</text>\r\n<text text-anchor=\"middle\" x=\"505\" y=\"-109.8\" font-family=\"Times New Roman,serif\" font-size=\"14.00\">mse = 15.317</text>\r\n<text text-anchor=\"middle\" x=\"505\" y=\"-94.8\" font-family=\"Times New Roman,serif\" font-size=\"14.00\">samples = 67</text>\r\n<text text-anchor=\"middle\" x=\"505\" y=\"-79.8\" font-family=\"Times New Roman,serif\" font-size=\"14.00\">value = 11.84</text>\r\n</g>\r\n<!-- 13&#45;&gt;21 -->\r\n<g id=\"edge13\" class=\"edge\"><title>13&#45;&gt;21</title>\r\n<path fill=\"none\" stroke=\"black\" d=\"M462.454,-175.884C467.736,-167.332 473.492,-158.013 479.014,-149.072\"/>\r\n<polygon fill=\"black\" stroke=\"black\" points=\"482.156,-150.647 484.433,-140.299 476.2,-146.968 482.156,-150.647\"/>\r\n</g>\r\n<!-- 15 -->\r\n<g id=\"node12\" class=\"node\"><title>15</title>\r\n<polygon fill=\"#c0c0c0\" stroke=\"black\" points=\"342,-36 288,-36 288,-0 342,-0 342,-36\"/>\r\n<text text-anchor=\"middle\" x=\"315\" y=\"-14.3\" font-family=\"Times New Roman,serif\" font-size=\"14.00\">(...)</text>\r\n</g>\r\n<!-- 14&#45;&gt;15 -->\r\n<g id=\"edge11\" class=\"edge\"><title>14&#45;&gt;15</title>\r\n<path fill=\"none\" stroke=\"black\" d=\"M354.439,-71.9961C347.671,-62.9014 340.433,-53.1752 334.029,-44.57\"/>\r\n<polygon fill=\"black\" stroke=\"black\" points=\"336.729,-42.3362 327.951,-36.4034 331.114,-46.5153 336.729,-42.3362\"/>\r\n</g>\r\n<!-- 18 -->\r\n<g id=\"node13\" class=\"node\"><title>18</title>\r\n<polygon fill=\"#c0c0c0\" stroke=\"black\" points=\"414,-36 360,-36 360,-0 414,-0 414,-36\"/>\r\n<text text-anchor=\"middle\" x=\"387\" y=\"-14.3\" font-family=\"Times New Roman,serif\" font-size=\"14.00\">(...)</text>\r\n</g>\r\n<!-- 14&#45;&gt;18 -->\r\n<g id=\"edge12\" class=\"edge\"><title>14&#45;&gt;18</title>\r\n<path fill=\"none\" stroke=\"black\" d=\"M382.07,-71.9961C382.854,-63.5646 383.689,-54.5902 384.445,-46.4696\"/>\r\n<polygon fill=\"black\" stroke=\"black\" points=\"387.94,-46.6846 385.381,-36.4034 380.97,-46.0362 387.94,-46.6846\"/>\r\n</g>\r\n<!-- 22 -->\r\n<g id=\"node15\" class=\"node\"><title>22</title>\r\n<polygon fill=\"#c0c0c0\" stroke=\"black\" points=\"486,-36 432,-36 432,-0 486,-0 486,-36\"/>\r\n<text text-anchor=\"middle\" x=\"459\" y=\"-14.3\" font-family=\"Times New Roman,serif\" font-size=\"14.00\">(...)</text>\r\n</g>\r\n<!-- 21&#45;&gt;22 -->\r\n<g id=\"edge14\" class=\"edge\"><title>21&#45;&gt;22</title>\r\n<path fill=\"none\" stroke=\"black\" d=\"M487.347,-71.9961C482.634,-63.1856 477.605,-53.7825 473.11,-45.38\"/>\r\n<polygon fill=\"black\" stroke=\"black\" points=\"476.112,-43.5704 468.309,-36.4034 469.939,-46.872 476.112,-43.5704\"/>\r\n</g>\r\n<!-- 25 -->\r\n<g id=\"node16\" class=\"node\"><title>25</title>\r\n<polygon fill=\"#c0c0c0\" stroke=\"black\" points=\"558,-36 504,-36 504,-0 558,-0 558,-36\"/>\r\n<text text-anchor=\"middle\" x=\"531\" y=\"-14.3\" font-family=\"Times New Roman,serif\" font-size=\"14.00\">(...)</text>\r\n</g>\r\n<!-- 21&#45;&gt;25 -->\r\n<g id=\"edge15\" class=\"edge\"><title>21&#45;&gt;25</title>\r\n<path fill=\"none\" stroke=\"black\" d=\"M514.978,-71.9961C517.556,-63.4699 520.301,-54.3885 522.778,-46.1962\"/>\r\n<polygon fill=\"black\" stroke=\"black\" points=\"526.195,-46.9884 525.739,-36.4034 519.494,-44.9626 526.195,-46.9884\"/>\r\n</g>\r\n<!-- 29 -->\r\n<g id=\"node18\" class=\"node\"><title>29</title>\r\n<polygon fill=\"#f0b78e\" stroke=\"black\" points=\"751.5,-244 644.5,-244 644.5,-176 751.5,-176 751.5,-244\"/>\r\n<text text-anchor=\"middle\" x=\"698\" y=\"-228.8\" font-family=\"Times New Roman,serif\" font-size=\"14.00\">CRIM &lt;= 7.393</text>\r\n<text text-anchor=\"middle\" x=\"698\" y=\"-213.8\" font-family=\"Times New Roman,serif\" font-size=\"14.00\">mse = 45.347</text>\r\n<text text-anchor=\"middle\" x=\"698\" y=\"-198.8\" font-family=\"Times New Roman,serif\" font-size=\"14.00\">samples = 40</text>\r\n<text text-anchor=\"middle\" x=\"698\" y=\"-183.8\" font-family=\"Times New Roman,serif\" font-size=\"14.00\">value = 32.348</text>\r\n</g>\r\n<!-- 28&#45;&gt;29 -->\r\n<g id=\"edge17\" class=\"edge\"><title>28&#45;&gt;29</title>\r\n<path fill=\"none\" stroke=\"black\" d=\"M698,-279.884C698,-271.778 698,-262.982 698,-254.472\"/>\r\n<polygon fill=\"black\" stroke=\"black\" points=\"701.5,-254.299 698,-244.299 694.5,-254.299 701.5,-254.299\"/>\r\n</g>\r\n<!-- 42 -->\r\n<g id=\"node25\" class=\"node\"><title>42</title>\r\n<polygon fill=\"#e89050\" stroke=\"black\" points=\"944.5,-244 837.5,-244 837.5,-176 944.5,-176 944.5,-244\"/>\r\n<text text-anchor=\"middle\" x=\"891\" y=\"-228.8\" font-family=\"Times New Roman,serif\" font-size=\"14.00\">CRIM &lt;= 2.654</text>\r\n<text text-anchor=\"middle\" x=\"891\" y=\"-213.8\" font-family=\"Times New Roman,serif\" font-size=\"14.00\">mse = 37.55</text>\r\n<text text-anchor=\"middle\" x=\"891\" y=\"-198.8\" font-family=\"Times New Roman,serif\" font-size=\"14.00\">samples = 27</text>\r\n<text text-anchor=\"middle\" x=\"891\" y=\"-183.8\" font-family=\"Times New Roman,serif\" font-size=\"14.00\">value = 45.267</text>\r\n</g>\r\n<!-- 28&#45;&gt;42 -->\r\n<g id=\"edge24\" class=\"edge\"><title>28&#45;&gt;42</title>\r\n<path fill=\"none\" stroke=\"black\" d=\"M747.201,-286.997C771.877,-273.956 802.035,-258.018 828.348,-244.111\"/>\r\n<polygon fill=\"black\" stroke=\"black\" points=\"830.274,-247.052 837.48,-239.285 827.003,-240.863 830.274,-247.052\"/>\r\n</g>\r\n<!-- 30 -->\r\n<g id=\"node19\" class=\"node\"><title>30</title>\r\n<polygon fill=\"#efb387\" stroke=\"black\" points=\"690,-140 592,-140 592,-72 690,-72 690,-140\"/>\r\n<text text-anchor=\"middle\" x=\"641\" y=\"-124.8\" font-family=\"Times New Roman,serif\" font-size=\"14.00\">DIS &lt;= 1.886</text>\r\n<text text-anchor=\"middle\" x=\"641\" y=\"-109.8\" font-family=\"Times New Roman,serif\" font-size=\"14.00\">mse = 20.034</text>\r\n<text text-anchor=\"middle\" x=\"641\" y=\"-94.8\" font-family=\"Times New Roman,serif\" font-size=\"14.00\">samples = 37</text>\r\n<text text-anchor=\"middle\" x=\"641\" y=\"-79.8\" font-family=\"Times New Roman,serif\" font-size=\"14.00\">value = 33.803</text>\r\n</g>\r\n<!-- 29&#45;&gt;30 -->\r\n<g id=\"edge18\" class=\"edge\"><title>29&#45;&gt;30</title>\r\n<path fill=\"none\" stroke=\"black\" d=\"M679.494,-175.884C674.715,-167.332 669.507,-158.013 664.511,-149.072\"/>\r\n<polygon fill=\"black\" stroke=\"black\" points=\"667.542,-147.321 659.608,-140.299 661.431,-150.736 667.542,-147.321\"/>\r\n</g>\r\n<!-- 37 -->\r\n<g id=\"node22\" class=\"node\"><title>37</title>\r\n<polygon fill=\"#fceee5\" stroke=\"black\" points=\"801.5,-140 708.5,-140 708.5,-72 801.5,-72 801.5,-140\"/>\r\n<text text-anchor=\"middle\" x=\"755\" y=\"-124.8\" font-family=\"Times New Roman,serif\" font-size=\"14.00\">RM &lt;= 7.141</text>\r\n<text text-anchor=\"middle\" x=\"755\" y=\"-109.8\" font-family=\"Times New Roman,serif\" font-size=\"14.00\">mse = 9.307</text>\r\n<text text-anchor=\"middle\" x=\"755\" y=\"-94.8\" font-family=\"Times New Roman,serif\" font-size=\"14.00\">samples = 3</text>\r\n<text text-anchor=\"middle\" x=\"755\" y=\"-79.8\" font-family=\"Times New Roman,serif\" font-size=\"14.00\">value = 14.4</text>\r\n</g>\r\n<!-- 29&#45;&gt;37 -->\r\n<g id=\"edge21\" class=\"edge\"><title>29&#45;&gt;37</title>\r\n<path fill=\"none\" stroke=\"black\" d=\"M716.506,-175.884C721.285,-167.332 726.493,-158.013 731.489,-149.072\"/>\r\n<polygon fill=\"black\" stroke=\"black\" points=\"734.569,-150.736 736.392,-140.299 728.458,-147.321 734.569,-150.736\"/>\r\n</g>\r\n<!-- 31 -->\r\n<g id=\"node20\" class=\"node\"><title>31</title>\r\n<polygon fill=\"#c0c0c0\" stroke=\"black\" points=\"630,-36 576,-36 576,-0 630,-0 630,-36\"/>\r\n<text text-anchor=\"middle\" x=\"603\" y=\"-14.3\" font-family=\"Times New Roman,serif\" font-size=\"14.00\">(...)</text>\r\n</g>\r\n<!-- 30&#45;&gt;31 -->\r\n<g id=\"edge19\" class=\"edge\"><title>30&#45;&gt;31</title>\r\n<path fill=\"none\" stroke=\"black\" d=\"M626.417,-71.9961C622.566,-63.2804 618.458,-53.9846 614.776,-45.6514\"/>\r\n<polygon fill=\"black\" stroke=\"black\" points=\"617.933,-44.1357 610.69,-36.4034 611.53,-46.9649 617.933,-44.1357\"/>\r\n</g>\r\n<!-- 34 -->\r\n<g id=\"node21\" class=\"node\"><title>34</title>\r\n<polygon fill=\"#c0c0c0\" stroke=\"black\" points=\"702,-36 648,-36 648,-0 702,-0 702,-36\"/>\r\n<text text-anchor=\"middle\" x=\"675\" y=\"-14.3\" font-family=\"Times New Roman,serif\" font-size=\"14.00\">(...)</text>\r\n</g>\r\n<!-- 30&#45;&gt;34 -->\r\n<g id=\"edge20\" class=\"edge\"><title>30&#45;&gt;34</title>\r\n<path fill=\"none\" stroke=\"black\" d=\"M654.048,-71.9961C657.456,-63.3751 661.089,-54.1866 664.356,-45.9234\"/>\r\n<polygon fill=\"black\" stroke=\"black\" points=\"667.698,-46.9898 668.12,-36.4034 661.188,-44.4162 667.698,-46.9898\"/>\r\n</g>\r\n<!-- 38 -->\r\n<g id=\"node23\" class=\"node\"><title>38</title>\r\n<polygon fill=\"#c0c0c0\" stroke=\"black\" points=\"774,-36 720,-36 720,-0 774,-0 774,-36\"/>\r\n<text text-anchor=\"middle\" x=\"747\" y=\"-14.3\" font-family=\"Times New Roman,serif\" font-size=\"14.00\">(...)</text>\r\n</g>\r\n<!-- 37&#45;&gt;38 -->\r\n<g id=\"edge22\" class=\"edge\"><title>37&#45;&gt;38</title>\r\n<path fill=\"none\" stroke=\"black\" d=\"M751.93,-71.9961C751.146,-63.5646 750.311,-54.5902 749.555,-46.4696\"/>\r\n<polygon fill=\"black\" stroke=\"black\" points=\"753.03,-46.0362 748.619,-36.4034 746.06,-46.6846 753.03,-46.0362\"/>\r\n</g>\r\n<!-- 39 -->\r\n<g id=\"node24\" class=\"node\"><title>39</title>\r\n<polygon fill=\"#c0c0c0\" stroke=\"black\" points=\"846,-36 792,-36 792,-0 846,-0 846,-36\"/>\r\n<text text-anchor=\"middle\" x=\"819\" y=\"-14.3\" font-family=\"Times New Roman,serif\" font-size=\"14.00\">(...)</text>\r\n</g>\r\n<!-- 37&#45;&gt;39 -->\r\n<g id=\"edge23\" class=\"edge\"><title>37&#45;&gt;39</title>\r\n<path fill=\"none\" stroke=\"black\" d=\"M779.561,-71.9961C786.329,-62.9014 793.567,-53.1752 799.971,-44.57\"/>\r\n<polygon fill=\"black\" stroke=\"black\" points=\"802.886,-46.5153 806.049,-36.4034 797.271,-42.3362 802.886,-46.5153\"/>\r\n</g>\r\n<!-- 43 -->\r\n<g id=\"node26\" class=\"node\"><title>43</title>\r\n<polygon fill=\"#e78d4c\" stroke=\"black\" points=\"953.5,-140 828.5,-140 828.5,-72 953.5,-72 953.5,-140\"/>\r\n<text text-anchor=\"middle\" x=\"891\" y=\"-124.8\" font-family=\"Times New Roman,serif\" font-size=\"14.00\">PTRATIO &lt;= 17.9</text>\r\n<text text-anchor=\"middle\" x=\"891\" y=\"-109.8\" font-family=\"Times New Roman,serif\" font-size=\"14.00\">mse = 17.186</text>\r\n<text text-anchor=\"middle\" x=\"891\" y=\"-94.8\" font-family=\"Times New Roman,serif\" font-size=\"14.00\">samples = 26</text>\r\n<text text-anchor=\"middle\" x=\"891\" y=\"-79.8\" font-family=\"Times New Roman,serif\" font-size=\"14.00\">value = 46.165</text>\r\n</g>\r\n<!-- 42&#45;&gt;43 -->\r\n<g id=\"edge25\" class=\"edge\"><title>42&#45;&gt;43</title>\r\n<path fill=\"none\" stroke=\"black\" d=\"M891,-175.884C891,-167.778 891,-158.982 891,-150.472\"/>\r\n<polygon fill=\"black\" stroke=\"black\" points=\"894.5,-150.299 891,-140.299 887.5,-150.299 894.5,-150.299\"/>\r\n</g>\r\n<!-- 50 -->\r\n<g id=\"node29\" class=\"node\"><title>50</title>\r\n<polygon fill=\"#f7d7c1\" stroke=\"black\" points=\"1056.5,-132.5 971.5,-132.5 971.5,-79.5 1056.5,-79.5 1056.5,-132.5\"/>\r\n<text text-anchor=\"middle\" x=\"1014\" y=\"-117.3\" font-family=\"Times New Roman,serif\" font-size=\"14.00\">mse = &#45;0.0</text>\r\n<text text-anchor=\"middle\" x=\"1014\" y=\"-102.3\" font-family=\"Times New Roman,serif\" font-size=\"14.00\">samples = 1</text>\r\n<text text-anchor=\"middle\" x=\"1014\" y=\"-87.3\" font-family=\"Times New Roman,serif\" font-size=\"14.00\">value = 21.9</text>\r\n</g>\r\n<!-- 42&#45;&gt;50 -->\r\n<g id=\"edge28\" class=\"edge\"><title>42&#45;&gt;50</title>\r\n<path fill=\"none\" stroke=\"black\" d=\"M930.935,-175.884C945.125,-164.116 961.069,-150.894 975.167,-139.203\"/>\r\n<polygon fill=\"black\" stroke=\"black\" points=\"977.763,-141.597 983.226,-132.52 973.294,-136.209 977.763,-141.597\"/>\r\n</g>\r\n<!-- 44 -->\r\n<g id=\"node27\" class=\"node\"><title>44</title>\r\n<polygon fill=\"#c0c0c0\" stroke=\"black\" points=\"918,-36 864,-36 864,-0 918,-0 918,-36\"/>\r\n<text text-anchor=\"middle\" x=\"891\" y=\"-14.3\" font-family=\"Times New Roman,serif\" font-size=\"14.00\">(...)</text>\r\n</g>\r\n<!-- 43&#45;&gt;44 -->\r\n<g id=\"edge26\" class=\"edge\"><title>43&#45;&gt;44</title>\r\n<path fill=\"none\" stroke=\"black\" d=\"M891,-71.9961C891,-63.5646 891,-54.5902 891,-46.4696\"/>\r\n<polygon fill=\"black\" stroke=\"black\" points=\"894.5,-46.4033 891,-36.4034 887.5,-46.4034 894.5,-46.4033\"/>\r\n</g>\r\n<!-- 47 -->\r\n<g id=\"node28\" class=\"node\"><title>47</title>\r\n<polygon fill=\"#c0c0c0\" stroke=\"black\" points=\"990,-36 936,-36 936,-0 990,-0 990,-36\"/>\r\n<text text-anchor=\"middle\" x=\"963\" y=\"-14.3\" font-family=\"Times New Roman,serif\" font-size=\"14.00\">(...)</text>\r\n</g>\r\n<!-- 43&#45;&gt;47 -->\r\n<g id=\"edge27\" class=\"edge\"><title>43&#45;&gt;47</title>\r\n<path fill=\"none\" stroke=\"black\" d=\"M918.631,-71.9961C926.325,-62.8067 934.558,-52.9725 941.817,-44.3014\"/>\r\n<polygon fill=\"black\" stroke=\"black\" points=\"944.694,-46.3178 948.43,-36.4034 939.327,-41.8242 944.694,-46.3178\"/>\r\n</g>\r\n</g>\r\n</svg>\r\n",
            "text/plain": [
              "<graphviz.files.Source at 0x272378ff288>"
            ]
          },
          "metadata": {
            "tags": []
          },
          "execution_count": 4
        }
      ]
    },
    {
      "cell_type": "code",
      "metadata": {
        "id": "6c-_dbxYYKw4",
        "colab_type": "code",
        "colab": {},
        "outputId": "7d6438b7-49a3-4fce-f0de-29c7baa77e9e"
      },
      "source": [
        "# 透過分數調整 maxdepth的參數，決定模型好壞\n",
        "from sklearn.metrics import r2_score\n",
        "pre = reg.predict(x_test)\n",
        "score = r2_score(y_test, pre)\n",
        "print(\"預測:\",pre)\n",
        "print(\"分數:\",score)"
      ],
      "execution_count": null,
      "outputs": [
        {
          "output_type": "stream",
          "text": [
            "預測: [17.35319149 26.14375    20.04285714 24.01707317 30.56666667 20.88507463\n",
            " 20.88507463 13.78       20.88507463 17.35319149 20.88507463 26.14375\n",
            " 22.94        9.02580645 17.35319149 44.61428571 13.78       20.88507463\n",
            " 20.88507463 20.88507463 20.88507463 20.88507463 34.46086957 26.14375\n",
            " 26.14375    22.94       34.46086957 20.88507463 17.35319149 20.88507463\n",
            " 17.35319149 20.88507463 26.14375    17.35319149 20.88507463 48.5\n",
            " 20.88507463 20.88507463 17.35319149 20.88507463 34.46086957 50.\n",
            " 22.94       34.46086957 48.5        20.88507463 17.35319149 26.14375\n",
            " 30.56666667 20.88507463 24.01707317]\n",
            "分數: 0.7811180365113547\n"
          ],
          "name": "stdout"
        }
      ]
    },
    {
      "cell_type": "code",
      "metadata": {
        "id": "iYFfat7LYKw9",
        "colab_type": "code",
        "colab": {}
      },
      "source": [
        ""
      ],
      "execution_count": null,
      "outputs": []
    },
    {
      "cell_type": "code",
      "metadata": {
        "id": "y_Rsc89mYKxB",
        "colab_type": "code",
        "colab": {}
      },
      "source": [
        ""
      ],
      "execution_count": null,
      "outputs": []
    }
  ]
}
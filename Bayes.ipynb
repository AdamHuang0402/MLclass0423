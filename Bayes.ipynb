{
  "nbformat": 4,
  "nbformat_minor": 0,
  "metadata": {
    "colab": {
      "name": "Bayes.ipynb",
      "provenance": [],
      "collapsed_sections": [],
      "mount_file_id": "1bBDEmorUCx5M3e7rk1b342jVfYlKnKdx",
      "authorship_tag": "ABX9TyPbPthPq9mZgP8J08G/GxNG",
      "include_colab_link": true
    },
    "kernelspec": {
      "name": "python3",
      "display_name": "Python 3"
    }
  },
  "cells": [
    {
      "cell_type": "markdown",
      "metadata": {
        "id": "view-in-github",
        "colab_type": "text"
      },
      "source": [
        "<a href=\"https://colab.research.google.com/github/AdamHuang0402/MLclass0423/blob/master/Bayes.ipynb\" target=\"_parent\"><img src=\"https://colab.research.google.com/assets/colab-badge.svg\" alt=\"Open In Colab\"/></a>"
      ]
    },
    {
      "cell_type": "code",
      "metadata": {
        "id": "71qZUNINnRhf",
        "colab_type": "code",
        "colab": {}
      },
      "source": [
        "# 使用貝氏做情緒分析"
      ],
      "execution_count": null,
      "outputs": []
    },
    {
      "cell_type": "code",
      "metadata": {
        "id": "xG3oCEEwgzoN",
        "colab_type": "code",
        "colab": {
          "base_uri": "https://localhost:8080/",
          "height": 419
        },
        "outputId": "bb5dea97-4687-4572-d09e-972c4101a8d2"
      },
      "source": [
        "import pandas as pd\n",
        "neg = pd.read_table(\"drive/My Drive/AI_class_project/neg_01.txt\")\n",
        "neg"
      ],
      "execution_count": null,
      "outputs": [
        {
          "output_type": "execute_result",
          "data": {
            "text/html": [
              "<div>\n",
              "<style scoped>\n",
              "    .dataframe tbody tr th:only-of-type {\n",
              "        vertical-align: middle;\n",
              "    }\n",
              "\n",
              "    .dataframe tbody tr th {\n",
              "        vertical-align: top;\n",
              "    }\n",
              "\n",
              "    .dataframe thead th {\n",
              "        text-align: right;\n",
              "    }\n",
              "</style>\n",
              "<table border=\"1\" class=\"dataframe\">\n",
              "  <thead>\n",
              "    <tr style=\"text-align: right;\">\n",
              "      <th></th>\n",
              "      <th>content</th>\n",
              "    </tr>\n",
              "  </thead>\n",
              "  <tbody>\n",
              "    <tr>\n",
              "      <th>0</th>\n",
              "      <td>我兩天前才幫老婆買一隻3a，真的衰！！！</td>\n",
              "    </tr>\n",
              "    <tr>\n",
              "      <th>1</th>\n",
              "      <td>呃你真的運氣不太好....</td>\n",
              "    </tr>\n",
              "    <tr>\n",
              "      <th>2</th>\n",
              "      <td>請問3a用起來怎麼樣？所謂兩年軟體更新的意思是說未來兩年假設安卓11出來可以搶先更新的意思嗎？</td>\n",
              "    </tr>\n",
              "    <tr>\n",
              "      <th>3</th>\n",
              "      <td>我兩天前才幫老婆買一隻3a，真的衰！！！</td>\n",
              "    </tr>\n",
              "    <tr>\n",
              "      <th>4</th>\n",
              "      <td>攝影就很普通了沒什麼特別</td>\n",
              "    </tr>\n",
              "    <tr>\n",
              "      <th>...</th>\n",
              "      <td>...</td>\n",
              "    </tr>\n",
              "    <tr>\n",
              "      <th>683937</th>\n",
              "      <td>所以LGG2要怎麼辦呢？死都不更新就是囉，前旗艦感覺有被棒棒糖放生的感覺。</td>\n",
              "    </tr>\n",
              "    <tr>\n",
              "      <th>683938</th>\n",
              "      <td>沒想到孿生機8.3pad完全沒升級消息哀</td>\n",
              "    </tr>\n",
              "    <tr>\n",
              "      <th>683939</th>\n",
              "      <td>現在都是四月份了還不出來G2手機都老化囉！</td>\n",
              "    </tr>\n",
              "    <tr>\n",
              "      <th>683940</th>\n",
              "      <td>不知道台灣開始升了嗎???</td>\n",
              "    </tr>\n",
              "    <tr>\n",
              "      <th>683941</th>\n",
              "      <td>LGG332G(昨天問N家只有黑色不喜歡)??...(恕刪)</td>\n",
              "    </tr>\n",
              "  </tbody>\n",
              "</table>\n",
              "<p>683942 rows × 1 columns</p>\n",
              "</div>"
            ],
            "text/plain": [
              "                                                content\n",
              "0                                  我兩天前才幫老婆買一隻3a，真的衰！！！\n",
              "1                                         呃你真的運氣不太好....\n",
              "2       請問3a用起來怎麼樣？所謂兩年軟體更新的意思是說未來兩年假設安卓11出來可以搶先更新的意思嗎？\n",
              "3                                  我兩天前才幫老婆買一隻3a，真的衰！！！\n",
              "4                                          攝影就很普通了沒什麼特別\n",
              "...                                                 ...\n",
              "683937            所以LGG2要怎麼辦呢？死都不更新就是囉，前旗艦感覺有被棒棒糖放生的感覺。\n",
              "683938                             沒想到孿生機8.3pad完全沒升級消息哀\n",
              "683939                            現在都是四月份了還不出來G2手機都老化囉！\n",
              "683940                                    不知道台灣開始升了嗎???\n",
              "683941                   LGG332G(昨天問N家只有黑色不喜歡)??...(恕刪)\n",
              "\n",
              "[683942 rows x 1 columns]"
            ]
          },
          "metadata": {
            "tags": []
          },
          "execution_count": 67
        }
      ]
    },
    {
      "cell_type": "code",
      "metadata": {
        "id": "O7qX1TCuiSHR",
        "colab_type": "code",
        "colab": {
          "base_uri": "https://localhost:8080/",
          "height": 419
        },
        "outputId": "e082ce3f-5c42-4e86-9716-8e1ad23eebfc"
      },
      "source": [
        "pos = pd.read_table(\"drive/My Drive/AI_class_project/pos_01.txt\")\n",
        "pos"
      ],
      "execution_count": null,
      "outputs": [
        {
          "output_type": "execute_result",
          "data": {
            "text/html": [
              "<div>\n",
              "<style scoped>\n",
              "    .dataframe tbody tr th:only-of-type {\n",
              "        vertical-align: middle;\n",
              "    }\n",
              "\n",
              "    .dataframe tbody tr th {\n",
              "        vertical-align: top;\n",
              "    }\n",
              "\n",
              "    .dataframe thead th {\n",
              "        text-align: right;\n",
              "    }\n",
              "</style>\n",
              "<table border=\"1\" class=\"dataframe\">\n",
              "  <thead>\n",
              "    <tr style=\"text-align: right;\">\n",
              "      <th></th>\n",
              "      <th>content</th>\n",
              "    </tr>\n",
              "  </thead>\n",
              "  <tbody>\n",
              "    <tr>\n",
              "      <th>0</th>\n",
              "      <td>3a用起來系統十分滑順，雖然搭載的是S670速度無法跟旗艦機種比較，</td>\n",
              "    </tr>\n",
              "    <tr>\n",
              "      <th>1</th>\n",
              "      <td>本來看到小銀幕很開心</td>\n",
              "    </tr>\n",
              "    <tr>\n",
              "      <th>2</th>\n",
              "      <td>3a用到現在，非常滿意</td>\n",
              "    </tr>\n",
              "    <tr>\n",
              "      <th>3</th>\n",
              "      <td>11000這種拍照真的值得買</td>\n",
              "    </tr>\n",
              "    <tr>\n",
              "      <th>4</th>\n",
              "      <td>3a真的物超所值無論是主力機或備用機都很適合</td>\n",
              "    </tr>\n",
              "    <tr>\n",
              "      <th>...</th>\n",
              "      <td>...</td>\n",
              "    </tr>\n",
              "    <tr>\n",
              "      <th>189290</th>\n",
              "      <td>LG電子（066570，www.lge.co.kr）推進最新的Android操作系統5.0版...</td>\n",
              "    </tr>\n",
              "    <tr>\n",
              "      <th>189291</th>\n",
              "      <td>升級平板電腦與一個棒棒糖LG電子是國內平板電腦的第一製造商。LG電子已在去年十一月進行的第一...</td>\n",
              "    </tr>\n",
              "    <tr>\n",
              "      <th>189292</th>\n",
              "      <td>LG電子計劃完成升級，在過去三天，“本月底摹墊8.0G墊7.0和G墊10.1開始棒棒糖升級。...</td>\n",
              "    </tr>\n",
              "    <tr>\n",
              "      <th>189293</th>\n",
              "      <td>LG電子（066570，www.lge.co.kr）推進最新的Android操作系統5.0版...</td>\n",
              "    </tr>\n",
              "    <tr>\n",
              "      <th>189294</th>\n",
              "      <td>升級平板電腦與一個棒棒糖LG電子是國內平板電腦的第一製造商。LG電子已在去年十一月進行的第一...</td>\n",
              "    </tr>\n",
              "  </tbody>\n",
              "</table>\n",
              "<p>189295 rows × 1 columns</p>\n",
              "</div>"
            ],
            "text/plain": [
              "                                                  content\n",
              "0                      3a用起來系統十分滑順，雖然搭載的是S670速度無法跟旗艦機種比較，\n",
              "1                                              本來看到小銀幕很開心\n",
              "2                                             3a用到現在，非常滿意\n",
              "3                                          11000這種拍照真的值得買\n",
              "4                                  3a真的物超所值無論是主力機或備用機都很適合\n",
              "...                                                   ...\n",
              "189290  LG電子（066570，www.lge.co.kr）推進最新的Android操作系統5.0版...\n",
              "189291  升級平板電腦與一個棒棒糖LG電子是國內平板電腦的第一製造商。LG電子已在去年十一月進行的第一...\n",
              "189292  LG電子計劃完成升級，在過去三天，“本月底摹墊8.0G墊7.0和G墊10.1開始棒棒糖升級。...\n",
              "189293  LG電子（066570，www.lge.co.kr）推進最新的Android操作系統5.0版...\n",
              "189294  升級平板電腦與一個棒棒糖LG電子是國內平板電腦的第一製造商。LG電子已在去年十一月進行的第一...\n",
              "\n",
              "[189295 rows x 1 columns]"
            ]
          },
          "metadata": {
            "tags": []
          },
          "execution_count": 10
        }
      ]
    },
    {
      "cell_type": "code",
      "metadata": {
        "id": "R3qepKyQkyqj",
        "colab_type": "code",
        "colab": {
          "base_uri": "https://localhost:8080/",
          "height": 419
        },
        "outputId": "873d6edb-e897-4539-9f4e-b9301f3de6de"
      },
      "source": [
        "import numpy as np\n",
        "\n",
        "neg_index = pd.DataFrame({\"index\":np.zeros(len(neg[\"content\"]),int), \"content\":neg[\"content\"]})\n",
        "neg_index"
      ],
      "execution_count": null,
      "outputs": [
        {
          "output_type": "execute_result",
          "data": {
            "text/html": [
              "<div>\n",
              "<style scoped>\n",
              "    .dataframe tbody tr th:only-of-type {\n",
              "        vertical-align: middle;\n",
              "    }\n",
              "\n",
              "    .dataframe tbody tr th {\n",
              "        vertical-align: top;\n",
              "    }\n",
              "\n",
              "    .dataframe thead th {\n",
              "        text-align: right;\n",
              "    }\n",
              "</style>\n",
              "<table border=\"1\" class=\"dataframe\">\n",
              "  <thead>\n",
              "    <tr style=\"text-align: right;\">\n",
              "      <th></th>\n",
              "      <th>index</th>\n",
              "      <th>content</th>\n",
              "    </tr>\n",
              "  </thead>\n",
              "  <tbody>\n",
              "    <tr>\n",
              "      <th>0</th>\n",
              "      <td>0</td>\n",
              "      <td>我兩天前才幫老婆買一隻3a，真的衰！！！</td>\n",
              "    </tr>\n",
              "    <tr>\n",
              "      <th>1</th>\n",
              "      <td>0</td>\n",
              "      <td>呃你真的運氣不太好....</td>\n",
              "    </tr>\n",
              "    <tr>\n",
              "      <th>2</th>\n",
              "      <td>0</td>\n",
              "      <td>請問3a用起來怎麼樣？所謂兩年軟體更新的意思是說未來兩年假設安卓11出來可以搶先更新的意思嗎？</td>\n",
              "    </tr>\n",
              "    <tr>\n",
              "      <th>3</th>\n",
              "      <td>0</td>\n",
              "      <td>我兩天前才幫老婆買一隻3a，真的衰！！！</td>\n",
              "    </tr>\n",
              "    <tr>\n",
              "      <th>4</th>\n",
              "      <td>0</td>\n",
              "      <td>攝影就很普通了沒什麼特別</td>\n",
              "    </tr>\n",
              "    <tr>\n",
              "      <th>...</th>\n",
              "      <td>...</td>\n",
              "      <td>...</td>\n",
              "    </tr>\n",
              "    <tr>\n",
              "      <th>683937</th>\n",
              "      <td>0</td>\n",
              "      <td>所以LGG2要怎麼辦呢？死都不更新就是囉，前旗艦感覺有被棒棒糖放生的感覺。</td>\n",
              "    </tr>\n",
              "    <tr>\n",
              "      <th>683938</th>\n",
              "      <td>0</td>\n",
              "      <td>沒想到孿生機8.3pad完全沒升級消息哀</td>\n",
              "    </tr>\n",
              "    <tr>\n",
              "      <th>683939</th>\n",
              "      <td>0</td>\n",
              "      <td>現在都是四月份了還不出來G2手機都老化囉！</td>\n",
              "    </tr>\n",
              "    <tr>\n",
              "      <th>683940</th>\n",
              "      <td>0</td>\n",
              "      <td>不知道台灣開始升了嗎???</td>\n",
              "    </tr>\n",
              "    <tr>\n",
              "      <th>683941</th>\n",
              "      <td>0</td>\n",
              "      <td>LGG332G(昨天問N家只有黑色不喜歡)??...(恕刪)</td>\n",
              "    </tr>\n",
              "  </tbody>\n",
              "</table>\n",
              "<p>683942 rows × 2 columns</p>\n",
              "</div>"
            ],
            "text/plain": [
              "        index                                          content\n",
              "0           0                             我兩天前才幫老婆買一隻3a，真的衰！！！\n",
              "1           0                                    呃你真的運氣不太好....\n",
              "2           0  請問3a用起來怎麼樣？所謂兩年軟體更新的意思是說未來兩年假設安卓11出來可以搶先更新的意思嗎？\n",
              "3           0                             我兩天前才幫老婆買一隻3a，真的衰！！！\n",
              "4           0                                     攝影就很普通了沒什麼特別\n",
              "...       ...                                              ...\n",
              "683937      0            所以LGG2要怎麼辦呢？死都不更新就是囉，前旗艦感覺有被棒棒糖放生的感覺。\n",
              "683938      0                             沒想到孿生機8.3pad完全沒升級消息哀\n",
              "683939      0                            現在都是四月份了還不出來G2手機都老化囉！\n",
              "683940      0                                    不知道台灣開始升了嗎???\n",
              "683941      0                   LGG332G(昨天問N家只有黑色不喜歡)??...(恕刪)\n",
              "\n",
              "[683942 rows x 2 columns]"
            ]
          },
          "metadata": {
            "tags": []
          },
          "execution_count": 36
        }
      ]
    },
    {
      "cell_type": "code",
      "metadata": {
        "id": "vTNtaspWqpKi",
        "colab_type": "code",
        "colab": {
          "base_uri": "https://localhost:8080/",
          "height": 419
        },
        "outputId": "454b4149-e5c8-42b5-8500-b70d12c481ba"
      },
      "source": [
        "test_neg = pd.DataFrame({\"index\":neg_index[\"index\"][:10000], \"content\":neg_index[\"content\"][:10000]})\n",
        "train_neg = pd.DataFrame({\"index\":neg_index[\"index\"][10000:610000], \"content\":neg_index[\"content\"][10000:610000]})\n",
        "train_neg"
      ],
      "execution_count": null,
      "outputs": [
        {
          "output_type": "execute_result",
          "data": {
            "text/html": [
              "<div>\n",
              "<style scoped>\n",
              "    .dataframe tbody tr th:only-of-type {\n",
              "        vertical-align: middle;\n",
              "    }\n",
              "\n",
              "    .dataframe tbody tr th {\n",
              "        vertical-align: top;\n",
              "    }\n",
              "\n",
              "    .dataframe thead th {\n",
              "        text-align: right;\n",
              "    }\n",
              "</style>\n",
              "<table border=\"1\" class=\"dataframe\">\n",
              "  <thead>\n",
              "    <tr style=\"text-align: right;\">\n",
              "      <th></th>\n",
              "      <th>index</th>\n",
              "      <th>content</th>\n",
              "    </tr>\n",
              "  </thead>\n",
              "  <tbody>\n",
              "    <tr>\n",
              "      <th>10000</th>\n",
              "      <td>0</td>\n",
              "      <td>台灣google的處理效率跟方式實在很糟,基本上客服是幫不上什麼忙的,</td>\n",
              "    </tr>\n",
              "    <tr>\n",
              "      <th>10001</th>\n",
              "      <td>0</td>\n",
              "      <td>退貨可以參考下面這篇,</td>\n",
              "    </tr>\n",
              "    <tr>\n",
              "      <th>10002</th>\n",
              "      <td>0</td>\n",
              "      <td>維修可參考下面這篇,現在還沒有結果,我也在關注中</td>\n",
              "    </tr>\n",
              "    <tr>\n",
              "      <th>10003</th>\n",
              "      <td>0</td>\n",
              "      <td>下訂前最好先想清楚自己的需求跟型號,</td>\n",
              "    </tr>\n",
              "    <tr>\n",
              "      <th>10004</th>\n",
              "      <td>0</td>\n",
              "      <td>沒事不要退貨比較好</td>\n",
              "    </tr>\n",
              "    <tr>\n",
              "      <th>...</th>\n",
              "      <td>...</td>\n",
              "      <td>...</td>\n",
              "    </tr>\n",
              "    <tr>\n",
              "      <th>609995</th>\n",
              "      <td>0</td>\n",
              "      <td>相機比手機？</td>\n",
              "    </tr>\n",
              "    <tr>\n",
              "      <th>609996</th>\n",
              "      <td>0</td>\n",
              "      <td>你的點是什麼？相機是神聖的，手機不該有相機功能？</td>\n",
              "    </tr>\n",
              "    <tr>\n",
              "      <th>609997</th>\n",
              "      <td>0</td>\n",
              "      <td>相機比手機？原來是...(恕刪)</td>\n",
              "    </tr>\n",
              "    <tr>\n",
              "      <th>609998</th>\n",
              "      <td>0</td>\n",
              "      <td>我也沒興趣知道</td>\n",
              "    </tr>\n",
              "    <tr>\n",
              "      <th>609999</th>\n",
              "      <td>0</td>\n",
              "      <td>BTW我現在是用手機回你的文，你是用單眼回我的嗎？</td>\n",
              "    </tr>\n",
              "  </tbody>\n",
              "</table>\n",
              "<p>600000 rows × 2 columns</p>\n",
              "</div>"
            ],
            "text/plain": [
              "        index                              content\n",
              "10000       0  台灣google的處理效率跟方式實在很糟,基本上客服是幫不上什麼忙的,\n",
              "10001       0                          退貨可以參考下面這篇,\n",
              "10002       0             維修可參考下面這篇,現在還沒有結果,我也在關注中\n",
              "10003       0                   下訂前最好先想清楚自己的需求跟型號,\n",
              "10004       0                            沒事不要退貨比較好\n",
              "...       ...                                  ...\n",
              "609995      0                               相機比手機？\n",
              "609996      0             你的點是什麼？相機是神聖的，手機不該有相機功能？\n",
              "609997      0                     相機比手機？原來是...(恕刪)\n",
              "609998      0                              我也沒興趣知道\n",
              "609999      0            BTW我現在是用手機回你的文，你是用單眼回我的嗎？\n",
              "\n",
              "[600000 rows x 2 columns]"
            ]
          },
          "metadata": {
            "tags": []
          },
          "execution_count": 134
        }
      ]
    },
    {
      "cell_type": "code",
      "metadata": {
        "id": "zrSuxR5piMY9",
        "colab_type": "code",
        "colab": {
          "base_uri": "https://localhost:8080/",
          "height": 419
        },
        "outputId": "84f9c374-5115-47dd-f419-c6e8087cacec"
      },
      "source": [
        "pos_index = pd.DataFrame({\"index\":np.ones(len(pos[\"content\"]),int), \"content\":pos[\"content\"]})\n",
        "pos_index"
      ],
      "execution_count": null,
      "outputs": [
        {
          "output_type": "execute_result",
          "data": {
            "text/html": [
              "<div>\n",
              "<style scoped>\n",
              "    .dataframe tbody tr th:only-of-type {\n",
              "        vertical-align: middle;\n",
              "    }\n",
              "\n",
              "    .dataframe tbody tr th {\n",
              "        vertical-align: top;\n",
              "    }\n",
              "\n",
              "    .dataframe thead th {\n",
              "        text-align: right;\n",
              "    }\n",
              "</style>\n",
              "<table border=\"1\" class=\"dataframe\">\n",
              "  <thead>\n",
              "    <tr style=\"text-align: right;\">\n",
              "      <th></th>\n",
              "      <th>index</th>\n",
              "      <th>content</th>\n",
              "    </tr>\n",
              "  </thead>\n",
              "  <tbody>\n",
              "    <tr>\n",
              "      <th>0</th>\n",
              "      <td>1</td>\n",
              "      <td>3a用起來系統十分滑順，雖然搭載的是S670速度無法跟旗艦機種比較，</td>\n",
              "    </tr>\n",
              "    <tr>\n",
              "      <th>1</th>\n",
              "      <td>1</td>\n",
              "      <td>本來看到小銀幕很開心</td>\n",
              "    </tr>\n",
              "    <tr>\n",
              "      <th>2</th>\n",
              "      <td>1</td>\n",
              "      <td>3a用到現在，非常滿意</td>\n",
              "    </tr>\n",
              "    <tr>\n",
              "      <th>3</th>\n",
              "      <td>1</td>\n",
              "      <td>11000這種拍照真的值得買</td>\n",
              "    </tr>\n",
              "    <tr>\n",
              "      <th>4</th>\n",
              "      <td>1</td>\n",
              "      <td>3a真的物超所值無論是主力機或備用機都很適合</td>\n",
              "    </tr>\n",
              "    <tr>\n",
              "      <th>...</th>\n",
              "      <td>...</td>\n",
              "      <td>...</td>\n",
              "    </tr>\n",
              "    <tr>\n",
              "      <th>189290</th>\n",
              "      <td>1</td>\n",
              "      <td>LG電子（066570，www.lge.co.kr）推進最新的Android操作系統5.0版...</td>\n",
              "    </tr>\n",
              "    <tr>\n",
              "      <th>189291</th>\n",
              "      <td>1</td>\n",
              "      <td>升級平板電腦與一個棒棒糖LG電子是國內平板電腦的第一製造商。LG電子已在去年十一月進行的第一...</td>\n",
              "    </tr>\n",
              "    <tr>\n",
              "      <th>189292</th>\n",
              "      <td>1</td>\n",
              "      <td>LG電子計劃完成升級，在過去三天，“本月底摹墊8.0G墊7.0和G墊10.1開始棒棒糖升級。...</td>\n",
              "    </tr>\n",
              "    <tr>\n",
              "      <th>189293</th>\n",
              "      <td>1</td>\n",
              "      <td>LG電子（066570，www.lge.co.kr）推進最新的Android操作系統5.0版...</td>\n",
              "    </tr>\n",
              "    <tr>\n",
              "      <th>189294</th>\n",
              "      <td>1</td>\n",
              "      <td>升級平板電腦與一個棒棒糖LG電子是國內平板電腦的第一製造商。LG電子已在去年十一月進行的第一...</td>\n",
              "    </tr>\n",
              "  </tbody>\n",
              "</table>\n",
              "<p>189295 rows × 2 columns</p>\n",
              "</div>"
            ],
            "text/plain": [
              "        index                                            content\n",
              "0           1                 3a用起來系統十分滑順，雖然搭載的是S670速度無法跟旗艦機種比較，\n",
              "1           1                                         本來看到小銀幕很開心\n",
              "2           1                                        3a用到現在，非常滿意\n",
              "3           1                                     11000這種拍照真的值得買\n",
              "4           1                             3a真的物超所值無論是主力機或備用機都很適合\n",
              "...       ...                                                ...\n",
              "189290      1  LG電子（066570，www.lge.co.kr）推進最新的Android操作系統5.0版...\n",
              "189291      1  升級平板電腦與一個棒棒糖LG電子是國內平板電腦的第一製造商。LG電子已在去年十一月進行的第一...\n",
              "189292      1  LG電子計劃完成升級，在過去三天，“本月底摹墊8.0G墊7.0和G墊10.1開始棒棒糖升級。...\n",
              "189293      1  LG電子（066570，www.lge.co.kr）推進最新的Android操作系統5.0版...\n",
              "189294      1  升級平板電腦與一個棒棒糖LG電子是國內平板電腦的第一製造商。LG電子已在去年十一月進行的第一...\n",
              "\n",
              "[189295 rows x 2 columns]"
            ]
          },
          "metadata": {
            "tags": []
          },
          "execution_count": 135
        }
      ]
    },
    {
      "cell_type": "code",
      "metadata": {
        "id": "Sr7W_EMMu5eW",
        "colab_type": "code",
        "colab": {
          "base_uri": "https://localhost:8080/",
          "height": 419
        },
        "outputId": "9e02e0ae-e22d-4ecd-fbfd-e30d98da830a"
      },
      "source": [
        "test_pos = pd.DataFrame({\"index\":pos_index[\"index\"][:10000], \"content\":pos_index[\"content\"][:10000]})\n",
        "train_pos = pd.DataFrame({\"index\":pos_index[\"index\"][10000:160000], \"content\":pos_index[\"content\"][10000:160000]})\n",
        "test_pos"
      ],
      "execution_count": null,
      "outputs": [
        {
          "output_type": "execute_result",
          "data": {
            "text/html": [
              "<div>\n",
              "<style scoped>\n",
              "    .dataframe tbody tr th:only-of-type {\n",
              "        vertical-align: middle;\n",
              "    }\n",
              "\n",
              "    .dataframe tbody tr th {\n",
              "        vertical-align: top;\n",
              "    }\n",
              "\n",
              "    .dataframe thead th {\n",
              "        text-align: right;\n",
              "    }\n",
              "</style>\n",
              "<table border=\"1\" class=\"dataframe\">\n",
              "  <thead>\n",
              "    <tr style=\"text-align: right;\">\n",
              "      <th></th>\n",
              "      <th>index</th>\n",
              "      <th>content</th>\n",
              "    </tr>\n",
              "  </thead>\n",
              "  <tbody>\n",
              "    <tr>\n",
              "      <th>0</th>\n",
              "      <td>1</td>\n",
              "      <td>3a用起來系統十分滑順，雖然搭載的是S670速度無法跟旗艦機種比較，</td>\n",
              "    </tr>\n",
              "    <tr>\n",
              "      <th>1</th>\n",
              "      <td>1</td>\n",
              "      <td>本來看到小銀幕很開心</td>\n",
              "    </tr>\n",
              "    <tr>\n",
              "      <th>2</th>\n",
              "      <td>1</td>\n",
              "      <td>3a用到現在，非常滿意</td>\n",
              "    </tr>\n",
              "    <tr>\n",
              "      <th>3</th>\n",
              "      <td>1</td>\n",
              "      <td>11000這種拍照真的值得買</td>\n",
              "    </tr>\n",
              "    <tr>\n",
              "      <th>4</th>\n",
              "      <td>1</td>\n",
              "      <td>3a真的物超所值無論是主力機或備用機都很適合</td>\n",
              "    </tr>\n",
              "    <tr>\n",
              "      <th>...</th>\n",
              "      <td>...</td>\n",
              "      <td>...</td>\n",
              "    </tr>\n",
              "    <tr>\n",
              "      <th>9995</th>\n",
              "      <td>1</td>\n",
              "      <td>iphone真的很好用~~玩遊戲時更好用</td>\n",
              "    </tr>\n",
              "    <tr>\n",
              "      <th>9996</th>\n",
              "      <td>1</td>\n",
              "      <td>我本身有iPad2跟XPERIAP，個人覺得常常有人發這種文章實在沒什麼意義，這種東西本來就...</td>\n",
              "    </tr>\n",
              "    <tr>\n",
              "      <th>9997</th>\n",
              "      <td>1</td>\n",
              "      <td>i系統優點是簡單易上手</td>\n",
              "    </tr>\n",
              "    <tr>\n",
              "      <th>9998</th>\n",
              "      <td>1</td>\n",
              "      <td>整合度個人認為非常優!</td>\n",
              "    </tr>\n",
              "    <tr>\n",
              "      <th>9999</th>\n",
              "      <td>1</td>\n",
              "      <td>加上我不否認i系統調校的非常優包括最讓大家津津樂道的流暢度</td>\n",
              "    </tr>\n",
              "  </tbody>\n",
              "</table>\n",
              "<p>10000 rows × 2 columns</p>\n",
              "</div>"
            ],
            "text/plain": [
              "      index                                            content\n",
              "0         1                 3a用起來系統十分滑順，雖然搭載的是S670速度無法跟旗艦機種比較，\n",
              "1         1                                         本來看到小銀幕很開心\n",
              "2         1                                        3a用到現在，非常滿意\n",
              "3         1                                     11000這種拍照真的值得買\n",
              "4         1                             3a真的物超所值無論是主力機或備用機都很適合\n",
              "...     ...                                                ...\n",
              "9995      1                               iphone真的很好用~~玩遊戲時更好用\n",
              "9996      1  我本身有iPad2跟XPERIAP，個人覺得常常有人發這種文章實在沒什麼意義，這種東西本來就...\n",
              "9997      1                                        i系統優點是簡單易上手\n",
              "9998      1                                        整合度個人認為非常優!\n",
              "9999      1                      加上我不否認i系統調校的非常優包括最讓大家津津樂道的流暢度\n",
              "\n",
              "[10000 rows x 2 columns]"
            ]
          },
          "metadata": {
            "tags": []
          },
          "execution_count": 136
        }
      ]
    },
    {
      "cell_type": "code",
      "metadata": {
        "id": "sSF0vamxvBAZ",
        "colab_type": "code",
        "colab": {
          "base_uri": "https://localhost:8080/",
          "height": 419
        },
        "outputId": "9e256f45-e655-43ac-fed7-d755a6d949e2"
      },
      "source": [
        "test_data = pd.concat([test_neg, test_pos], axis=0, ignore_index=True)\n",
        "test_data\n"
      ],
      "execution_count": null,
      "outputs": [
        {
          "output_type": "execute_result",
          "data": {
            "text/html": [
              "<div>\n",
              "<style scoped>\n",
              "    .dataframe tbody tr th:only-of-type {\n",
              "        vertical-align: middle;\n",
              "    }\n",
              "\n",
              "    .dataframe tbody tr th {\n",
              "        vertical-align: top;\n",
              "    }\n",
              "\n",
              "    .dataframe thead th {\n",
              "        text-align: right;\n",
              "    }\n",
              "</style>\n",
              "<table border=\"1\" class=\"dataframe\">\n",
              "  <thead>\n",
              "    <tr style=\"text-align: right;\">\n",
              "      <th></th>\n",
              "      <th>index</th>\n",
              "      <th>content</th>\n",
              "    </tr>\n",
              "  </thead>\n",
              "  <tbody>\n",
              "    <tr>\n",
              "      <th>0</th>\n",
              "      <td>0</td>\n",
              "      <td>我兩天前才幫老婆買一隻3a，真的衰！！！</td>\n",
              "    </tr>\n",
              "    <tr>\n",
              "      <th>1</th>\n",
              "      <td>0</td>\n",
              "      <td>呃你真的運氣不太好....</td>\n",
              "    </tr>\n",
              "    <tr>\n",
              "      <th>2</th>\n",
              "      <td>0</td>\n",
              "      <td>請問3a用起來怎麼樣？所謂兩年軟體更新的意思是說未來兩年假設安卓11出來可以搶先更新的意思嗎？</td>\n",
              "    </tr>\n",
              "    <tr>\n",
              "      <th>3</th>\n",
              "      <td>0</td>\n",
              "      <td>我兩天前才幫老婆買一隻3a，真的衰！！！</td>\n",
              "    </tr>\n",
              "    <tr>\n",
              "      <th>4</th>\n",
              "      <td>0</td>\n",
              "      <td>攝影就很普通了沒什麼特別</td>\n",
              "    </tr>\n",
              "    <tr>\n",
              "      <th>...</th>\n",
              "      <td>...</td>\n",
              "      <td>...</td>\n",
              "    </tr>\n",
              "    <tr>\n",
              "      <th>19995</th>\n",
              "      <td>1</td>\n",
              "      <td>iphone真的很好用~~玩遊戲時更好用</td>\n",
              "    </tr>\n",
              "    <tr>\n",
              "      <th>19996</th>\n",
              "      <td>1</td>\n",
              "      <td>我本身有iPad2跟XPERIAP，個人覺得常常有人發這種文章實在沒什麼意義，這種東西本來就...</td>\n",
              "    </tr>\n",
              "    <tr>\n",
              "      <th>19997</th>\n",
              "      <td>1</td>\n",
              "      <td>i系統優點是簡單易上手</td>\n",
              "    </tr>\n",
              "    <tr>\n",
              "      <th>19998</th>\n",
              "      <td>1</td>\n",
              "      <td>整合度個人認為非常優!</td>\n",
              "    </tr>\n",
              "    <tr>\n",
              "      <th>19999</th>\n",
              "      <td>1</td>\n",
              "      <td>加上我不否認i系統調校的非常優包括最讓大家津津樂道的流暢度</td>\n",
              "    </tr>\n",
              "  </tbody>\n",
              "</table>\n",
              "<p>20000 rows × 2 columns</p>\n",
              "</div>"
            ],
            "text/plain": [
              "       index                                            content\n",
              "0          0                               我兩天前才幫老婆買一隻3a，真的衰！！！\n",
              "1          0                                      呃你真的運氣不太好....\n",
              "2          0    請問3a用起來怎麼樣？所謂兩年軟體更新的意思是說未來兩年假設安卓11出來可以搶先更新的意思嗎？\n",
              "3          0                               我兩天前才幫老婆買一隻3a，真的衰！！！\n",
              "4          0                                       攝影就很普通了沒什麼特別\n",
              "...      ...                                                ...\n",
              "19995      1                               iphone真的很好用~~玩遊戲時更好用\n",
              "19996      1  我本身有iPad2跟XPERIAP，個人覺得常常有人發這種文章實在沒什麼意義，這種東西本來就...\n",
              "19997      1                                        i系統優點是簡單易上手\n",
              "19998      1                                        整合度個人認為非常優!\n",
              "19999      1                      加上我不否認i系統調校的非常優包括最讓大家津津樂道的流暢度\n",
              "\n",
              "[20000 rows x 2 columns]"
            ]
          },
          "metadata": {
            "tags": []
          },
          "execution_count": 137
        }
      ]
    },
    {
      "cell_type": "code",
      "metadata": {
        "id": "ruLh2bHLwguL",
        "colab_type": "code",
        "colab": {
          "base_uri": "https://localhost:8080/",
          "height": 419
        },
        "outputId": "55ef82eb-d1f0-4bf1-969d-de54ca2e75d6"
      },
      "source": [
        "train_data = pd.concat([train_neg, train_pos], axis=0, ignore_index=True)\n",
        "train_data"
      ],
      "execution_count": null,
      "outputs": [
        {
          "output_type": "execute_result",
          "data": {
            "text/html": [
              "<div>\n",
              "<style scoped>\n",
              "    .dataframe tbody tr th:only-of-type {\n",
              "        vertical-align: middle;\n",
              "    }\n",
              "\n",
              "    .dataframe tbody tr th {\n",
              "        vertical-align: top;\n",
              "    }\n",
              "\n",
              "    .dataframe thead th {\n",
              "        text-align: right;\n",
              "    }\n",
              "</style>\n",
              "<table border=\"1\" class=\"dataframe\">\n",
              "  <thead>\n",
              "    <tr style=\"text-align: right;\">\n",
              "      <th></th>\n",
              "      <th>index</th>\n",
              "      <th>content</th>\n",
              "    </tr>\n",
              "  </thead>\n",
              "  <tbody>\n",
              "    <tr>\n",
              "      <th>0</th>\n",
              "      <td>0</td>\n",
              "      <td>台灣google的處理效率跟方式實在很糟,基本上客服是幫不上什麼忙的,</td>\n",
              "    </tr>\n",
              "    <tr>\n",
              "      <th>1</th>\n",
              "      <td>0</td>\n",
              "      <td>退貨可以參考下面這篇,</td>\n",
              "    </tr>\n",
              "    <tr>\n",
              "      <th>2</th>\n",
              "      <td>0</td>\n",
              "      <td>維修可參考下面這篇,現在還沒有結果,我也在關注中</td>\n",
              "    </tr>\n",
              "    <tr>\n",
              "      <th>3</th>\n",
              "      <td>0</td>\n",
              "      <td>下訂前最好先想清楚自己的需求跟型號,</td>\n",
              "    </tr>\n",
              "    <tr>\n",
              "      <th>4</th>\n",
              "      <td>0</td>\n",
              "      <td>沒事不要退貨比較好</td>\n",
              "    </tr>\n",
              "    <tr>\n",
              "      <th>...</th>\n",
              "      <td>...</td>\n",
              "      <td>...</td>\n",
              "    </tr>\n",
              "    <tr>\n",
              "      <th>749995</th>\n",
              "      <td>1</td>\n",
              "      <td>看最終分數8分10秒mate20pro，31萬分，用845最高分的小米黑鯊只有29萬分，RO...</td>\n",
              "    </tr>\n",
              "    <tr>\n",
              "      <th>749996</th>\n",
              "      <td>1</td>\n",
              "      <td>想要大螢幕的</td>\n",
              "    </tr>\n",
              "    <tr>\n",
              "      <th>749997</th>\n",
              "      <td>1</td>\n",
              "      <td>每次看youtube影片都左右黑邊，真的很難過啊，</td>\n",
              "    </tr>\n",
              "    <tr>\n",
              "      <th>749998</th>\n",
              "      <td>1</td>\n",
              "      <td>還是16:9螢幕滿版最棒啊...</td>\n",
              "    </tr>\n",
              "    <tr>\n",
              "      <th>749999</th>\n",
              "      <td>1</td>\n",
              "      <td>用來看16:9的youtube影片可以大多少</td>\n",
              "    </tr>\n",
              "  </tbody>\n",
              "</table>\n",
              "<p>750000 rows × 2 columns</p>\n",
              "</div>"
            ],
            "text/plain": [
              "        index                                            content\n",
              "0           0                台灣google的處理效率跟方式實在很糟,基本上客服是幫不上什麼忙的,\n",
              "1           0                                        退貨可以參考下面這篇,\n",
              "2           0                           維修可參考下面這篇,現在還沒有結果,我也在關注中\n",
              "3           0                                 下訂前最好先想清楚自己的需求跟型號,\n",
              "4           0                                          沒事不要退貨比較好\n",
              "...       ...                                                ...\n",
              "749995      1  看最終分數8分10秒mate20pro，31萬分，用845最高分的小米黑鯊只有29萬分，RO...\n",
              "749996      1                                             想要大螢幕的\n",
              "749997      1                          每次看youtube影片都左右黑邊，真的很難過啊，\n",
              "749998      1                                   還是16:9螢幕滿版最棒啊...\n",
              "749999      1                             用來看16:9的youtube影片可以大多少\n",
              "\n",
              "[750000 rows x 2 columns]"
            ]
          },
          "metadata": {
            "tags": []
          },
          "execution_count": 138
        }
      ]
    },
    {
      "cell_type": "code",
      "metadata": {
        "id": "LB5-7YXqxtb8",
        "colab_type": "code",
        "colab": {
          "base_uri": "https://localhost:8080/",
          "height": 221
        },
        "outputId": "7d8bbb0f-b01a-4459-aa3d-cfabbdcfdb98"
      },
      "source": [
        "import jieba \n",
        "def poemcut(s):\n",
        "    s = \" \".join(jieba.cut(s))\n",
        "    s = s.replace(\"\\r\", \"\").replace(\"\\n\", \"\")\n",
        "    return s\n",
        "# pandas表格: DataFrame 一欄或者一列: Series\n",
        "# Series.apply(功能名字)\n",
        "x_train = train_data[\"content\"].apply(poemcut)\n",
        "x_test = test_data[\"content\"].apply(poemcut)\n",
        "x_test"
      ],
      "execution_count": null,
      "outputs": [
        {
          "output_type": "execute_result",
          "data": {
            "text/plain": [
              "0                       我 兩天前 才 幫 老婆 買 一 隻 3a ， 真的 衰 ！ ！ ！\n",
              "1                                       呃 你 真的 運氣 不太好 ....\n",
              "2        請問 3a 用 起來 怎麼樣 ？ 所謂 兩年 軟體 更新 的 意思 是 說 未來 兩年 假 ...\n",
              "3                       我 兩天前 才 幫 老婆 買 一 隻 3a ， 真的 衰 ！ ！ ！\n",
              "4                                       攝影 就 很 普通 了 沒什麼 特別\n",
              "                               ...                        \n",
              "19995                       iphone 真的 很 好 用 ~ ~ 玩遊 戲時 更好 用\n",
              "19996    我 本身 有 iPad2 跟 XPERIAP ， 個 人覺 得 常常 有人 發 這種 文章 ...\n",
              "19997                                     i 系統 優點 是 簡單易 上手\n",
              "19998                                    整合 度個 人 認為 非常 優 !\n",
              "19999      加上 我 不 否認 i 系統 調校 的 非常 優 包括 最 讓 大家 津津 樂道 的 流 暢度\n",
              "Name: content, Length: 20000, dtype: object"
            ]
          },
          "metadata": {
            "tags": []
          },
          "execution_count": 139
        }
      ]
    },
    {
      "cell_type": "code",
      "metadata": {
        "id": "69cxGtYgypGF",
        "colab_type": "code",
        "colab": {
          "base_uri": "https://localhost:8080/",
          "height": 221
        },
        "outputId": "303c2d24-b4b3-48ea-8732-717431e76620"
      },
      "source": [
        "u = train_data[\"index\"].unique()\n",
        "trans ={name:i for i,name in enumerate(u)}\n",
        "reverse_trans = {i:name for name,i in trans.items()}\n",
        "y_train = train_data[\"index\"].replace(trans)\n",
        "y_test = test_data[\"index\"].replace(trans)\n",
        "y_test"
      ],
      "execution_count": null,
      "outputs": [
        {
          "output_type": "execute_result",
          "data": {
            "text/plain": [
              "0        0\n",
              "1        0\n",
              "2        0\n",
              "3        0\n",
              "4        0\n",
              "        ..\n",
              "19995    1\n",
              "19996    1\n",
              "19997    1\n",
              "19998    1\n",
              "19999    1\n",
              "Name: index, Length: 20000, dtype: int64"
            ]
          },
          "metadata": {
            "tags": []
          },
          "execution_count": 140
        }
      ]
    },
    {
      "cell_type": "code",
      "metadata": {
        "id": "0lCzkFrCxWO-",
        "colab_type": "code",
        "colab": {}
      },
      "source": [
        "l\\# Sparse matrix:儲存非 0值\n",
        "from sklearn.feature_extraction.text import CountVectorizer\n",
        "vec = CountVectorizer()\n",
        "x_train_vec = vec.fit_transform(x_train)\n",
        "x_test_vec = vec.transform(x_test)"
      ],
      "execution_count": null,
      "outputs": []
    },
    {
      "cell_type": "code",
      "metadata": {
        "id": "wbpVWoeOzMTJ",
        "colab_type": "code",
        "colab": {
          "base_uri": "https://localhost:8080/",
          "height": 51
        },
        "outputId": "1b4cad9a-ece3-45db-ab06-3202c26c4768"
      },
      "source": [
        "x_train_vec"
      ],
      "execution_count": null,
      "outputs": [
        {
          "output_type": "execute_result",
          "data": {
            "text/plain": [
              "<750000x282272 sparse matrix of type '<class 'numpy.int64'>'\n",
              "\twith 5520133 stored elements in Compressed Sparse Row format>"
            ]
          },
          "metadata": {
            "tags": []
          },
          "execution_count": 142
        }
      ]
    },
    {
      "cell_type": "code",
      "metadata": {
        "id": "To7h4t7PzQEq",
        "colab_type": "code",
        "colab": {
          "base_uri": "https://localhost:8080/",
          "height": 221
        },
        "outputId": "7493af63-5578-4fb0-9bda-c8a08b36746f"
      },
      "source": [
        "y_train"
      ],
      "execution_count": null,
      "outputs": [
        {
          "output_type": "execute_result",
          "data": {
            "text/plain": [
              "0         0\n",
              "1         0\n",
              "2         0\n",
              "3         0\n",
              "4         0\n",
              "         ..\n",
              "749995    1\n",
              "749996    1\n",
              "749997    1\n",
              "749998    1\n",
              "749999    1\n",
              "Name: index, Length: 750000, dtype: int64"
            ]
          },
          "metadata": {
            "tags": []
          },
          "execution_count": 143
        }
      ]
    },
    {
      "cell_type": "code",
      "metadata": {
        "id": "3kVFHihiycPd",
        "colab_type": "code",
        "colab": {
          "base_uri": "https://localhost:8080/",
          "height": 34
        },
        "outputId": "98856a11-af5d-4d76-baaa-15bb931689a4"
      },
      "source": [
        "from sklearn.naive_bayes import MultinomialNB    # 單純貝氏\n",
        "clf = MultinomialNB()\n",
        "clf.fit(x_train_vec, y_train)"
      ],
      "execution_count": null,
      "outputs": [
        {
          "output_type": "execute_result",
          "data": {
            "text/plain": [
              "MultinomialNB(alpha=1.0, class_prior=None, fit_prior=True)"
            ]
          },
          "metadata": {
            "tags": []
          },
          "execution_count": 144
        }
      ]
    },
    {
      "cell_type": "code",
      "metadata": {
        "id": "_4kmItOc-D8g",
        "colab_type": "code",
        "colab": {
          "base_uri": "https://localhost:8080/",
          "height": 34
        },
        "outputId": "938642fd-d812-4d31-f1f1-da36341ee2f1"
      },
      "source": [
        "from sklearn.metrics import accuracy_score\n",
        "pre = clf.predict(x_test_vec)\n",
        "print(\"正確率:\",accuracy_score(pre, y_test))"
      ],
      "execution_count": null,
      "outputs": [
        {
          "output_type": "stream",
          "text": [
            "正確率: 0.82015\n"
          ],
          "name": "stdout"
        }
      ]
    },
    {
      "cell_type": "code",
      "metadata": {
        "id": "ecabUNoQ-LUk",
        "colab_type": "code",
        "colab": {
          "base_uri": "https://localhost:8080/",
          "height": 111
        },
        "outputId": "f5945922-9897-434b-eb88-1d838afd035f"
      },
      "source": [
        "from sklearn.metrics import confusion_matrix\n",
        "mat = confusion_matrix(y_test, pre)\n",
        "c = [\"{}預測\".format(name) for name in u]\n",
        "i = [\"{}原本\".format(name) for name in u]\n",
        "pd.DataFrame(mat, columns=c, index=i)"
      ],
      "execution_count": null,
      "outputs": [
        {
          "output_type": "execute_result",
          "data": {
            "text/html": [
              "<div>\n",
              "<style scoped>\n",
              "    .dataframe tbody tr th:only-of-type {\n",
              "        vertical-align: middle;\n",
              "    }\n",
              "\n",
              "    .dataframe tbody tr th {\n",
              "        vertical-align: top;\n",
              "    }\n",
              "\n",
              "    .dataframe thead th {\n",
              "        text-align: right;\n",
              "    }\n",
              "</style>\n",
              "<table border=\"1\" class=\"dataframe\">\n",
              "  <thead>\n",
              "    <tr style=\"text-align: right;\">\n",
              "      <th></th>\n",
              "      <th>0預測</th>\n",
              "      <th>1預測</th>\n",
              "    </tr>\n",
              "  </thead>\n",
              "  <tbody>\n",
              "    <tr>\n",
              "      <th>0原本</th>\n",
              "      <td>9804</td>\n",
              "      <td>196</td>\n",
              "    </tr>\n",
              "    <tr>\n",
              "      <th>1原本</th>\n",
              "      <td>3401</td>\n",
              "      <td>6599</td>\n",
              "    </tr>\n",
              "  </tbody>\n",
              "</table>\n",
              "</div>"
            ],
            "text/plain": [
              "      0預測   1預測\n",
              "0原本  9804   196\n",
              "1原本  3401  6599"
            ]
          },
          "metadata": {
            "tags": []
          },
          "execution_count": 146
        }
      ]
    },
    {
      "cell_type": "code",
      "metadata": {
        "id": "2Y64C0bINu1V",
        "colab_type": "code",
        "colab": {}
      },
      "source": [
        "# 結論 等量增加data ，正確率會提高(a,b)\n",
        "\n",
        "# 降低負樣本量，正負判斷錯誤的機率較相近(d)，而(c,e)雖然讓錯誤的預測正確機率上升，可是正確預測錯誤反而提高，整體預測反而更差"
      ],
      "execution_count": null,
      "outputs": []
    },
    {
      "cell_type": "code",
      "metadata": {
        "id": "uv6UlEiv-V6k",
        "colab_type": "code",
        "colab": {}
      },
      "source": [
        "#a\n",
        "# train 90000正 + 90000負\n",
        "# test  10000正 + 10000負\n",
        "\n",
        "# 正確率: 0.8532\n",
        "\n",
        "# \t   0預測\t1預測\n",
        "# 0原本\t9099\t 901\n",
        "# 1原本\t2035\t7965\n",
        "#\n",
        "\n",
        "#負正預測錯誤比值:負/正 = 0.44"
      ],
      "execution_count": null,
      "outputs": []
    },
    {
      "cell_type": "code",
      "metadata": {
        "id": "tB4MxY42Do_k",
        "colab_type": "code",
        "colab": {}
      },
      "source": [
        "#b\n",
        "# train 150000正 + 150000負\n",
        "# test  10000正 + 10000負\n",
        "\n",
        "# 正確率: 0.86675\n",
        "\n",
        "#      0預測\t1預測\n",
        "# 0原本\t9151\t 849\n",
        "# 1原本\t1816\t8184\n",
        "#\n",
        "\n",
        "\n",
        "#負正預測錯誤比值:負/正 = 0.46"
      ],
      "execution_count": null,
      "outputs": []
    },
    {
      "cell_type": "code",
      "metadata": {
        "id": "_xZZQlnXLBZa",
        "colab_type": "code",
        "colab": {}
      },
      "source": [
        "#c\n",
        "# train 150000正 + 300000負\n",
        "# test  10000正 + 10000負\n",
        "\n",
        "# 正確率: 0.85755\n",
        "\n",
        "#      0預測\t1預測\n",
        "# 0原本\t9609\t 391\n",
        "# 1原本\t2458\t7542"
      ],
      "execution_count": null,
      "outputs": []
    },
    {
      "cell_type": "code",
      "metadata": {
        "id": "SmtmYidyMBHf",
        "colab_type": "code",
        "colab": {}
      },
      "source": [
        "#d\n",
        "# train 150000正 + 75000負\n",
        "# test  10000正 + 10000負\n",
        "\n",
        "# 正確率: 0.8583\n",
        "\n",
        "# \t   0預測\t1預測\n",
        "# 0原本\t8403\t1597\n",
        "# 1原本\t1237\t8763"
      ],
      "execution_count": null,
      "outputs": []
    },
    {
      "cell_type": "code",
      "metadata": {
        "id": "2NXXxSzWNVDG",
        "colab_type": "code",
        "colab": {}
      },
      "source": [
        "#e\n",
        "# train 150000正 + 600000負\n",
        "# test  10000正 + 10000負\n",
        "\n",
        "# 正確率: 0.8583\n",
        "\n",
        "# \t   0預測\t1預測\n",
        "# 0原本\t8403\t1597\n",
        "# 1原本\t1237\t8763"
      ],
      "execution_count": null,
      "outputs": []
    },
    {
      "cell_type": "code",
      "metadata": {
        "id": "3nqt_BDEBVlO",
        "colab_type": "code",
        "colab": {
          "base_uri": "https://localhost:8080/",
          "height": 51
        },
        "outputId": "8134d521-3a72-494c-9041-89ac10be638a"
      },
      "source": [
        "p = input(\"輸入一首詩:\")\n",
        "# 注意[]: [第一首詩, 第二首詩]\n",
        "p = vec.transform([poemcut(p)])\n",
        "# 注意: [第一個答案, 第二個答案]\n",
        "ans = clf.predict(p)[0]\n",
        "print(\"答案應該是:\", reverse_trans[ans])"
      ],
      "execution_count": null,
      "outputs": [
        {
          "output_type": "stream",
          "text": [
            "輸入一首詩:看到以下消息,希望google趕快修正吧\n",
            "答案應該是: 0\n"
          ],
          "name": "stdout"
        }
      ]
    }
  ]
}